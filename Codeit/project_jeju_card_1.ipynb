{
 "cells": [
  {
   "cell_type": "code",
   "execution_count": 1,
   "id": "e8d68b80",
   "metadata": {},
   "outputs": [],
   "source": [
    "import matplotlib.pyplot as plt\n",
    "import pandas as pd\n",
    "import seaborn as sns"
   ]
  },
  {
   "cell_type": "code",
   "execution_count": 2,
   "id": "ceeba170",
   "metadata": {},
   "outputs": [
    {
     "data": {
      "text/html": [
       "<div>\n",
       "<style scoped>\n",
       "    .dataframe tbody tr th:only-of-type {\n",
       "        vertical-align: middle;\n",
       "    }\n",
       "\n",
       "    .dataframe tbody tr th {\n",
       "        vertical-align: top;\n",
       "    }\n",
       "\n",
       "    .dataframe thead th {\n",
       "        text-align: right;\n",
       "    }\n",
       "</style>\n",
       "<table border=\"1\" class=\"dataframe\">\n",
       "  <thead>\n",
       "    <tr style=\"text-align: right;\">\n",
       "      <th></th>\n",
       "      <th>시도명</th>\n",
       "      <th>시군구명</th>\n",
       "      <th>지역구분</th>\n",
       "      <th>업종명</th>\n",
       "      <th>이용자 구분</th>\n",
       "      <th>연령대</th>\n",
       "      <th>성별</th>\n",
       "      <th>연월</th>\n",
       "      <th>이용자수</th>\n",
       "      <th>이용횟수</th>\n",
       "      <th>이용금액</th>\n",
       "    </tr>\n",
       "  </thead>\n",
       "  <tbody>\n",
       "    <tr>\n",
       "      <th>0</th>\n",
       "      <td>제주도</td>\n",
       "      <td>제주시</td>\n",
       "      <td>읍면</td>\n",
       "      <td>유흥</td>\n",
       "      <td>제주도민</td>\n",
       "      <td>60대이상</td>\n",
       "      <td>여</td>\n",
       "      <td>2018-12</td>\n",
       "      <td>23</td>\n",
       "      <td>29</td>\n",
       "      <td>4240100</td>\n",
       "    </tr>\n",
       "    <tr>\n",
       "      <th>1</th>\n",
       "      <td>제주도</td>\n",
       "      <td>제주시</td>\n",
       "      <td>읍면</td>\n",
       "      <td>유흥</td>\n",
       "      <td>제주도민</td>\n",
       "      <td>60대이상</td>\n",
       "      <td>남</td>\n",
       "      <td>2018-12</td>\n",
       "      <td>114</td>\n",
       "      <td>190</td>\n",
       "      <td>27414000</td>\n",
       "    </tr>\n",
       "    <tr>\n",
       "      <th>2</th>\n",
       "      <td>제주도</td>\n",
       "      <td>제주시</td>\n",
       "      <td>읍면</td>\n",
       "      <td>유흥</td>\n",
       "      <td>제주도민</td>\n",
       "      <td>50대</td>\n",
       "      <td>여</td>\n",
       "      <td>2018-12</td>\n",
       "      <td>52</td>\n",
       "      <td>71</td>\n",
       "      <td>6848000</td>\n",
       "    </tr>\n",
       "    <tr>\n",
       "      <th>3</th>\n",
       "      <td>제주도</td>\n",
       "      <td>제주시</td>\n",
       "      <td>읍면</td>\n",
       "      <td>유흥</td>\n",
       "      <td>제주도민</td>\n",
       "      <td>50대</td>\n",
       "      <td>남</td>\n",
       "      <td>2018-12</td>\n",
       "      <td>259</td>\n",
       "      <td>458</td>\n",
       "      <td>91468500</td>\n",
       "    </tr>\n",
       "    <tr>\n",
       "      <th>4</th>\n",
       "      <td>제주도</td>\n",
       "      <td>제주시</td>\n",
       "      <td>읍면</td>\n",
       "      <td>유흥</td>\n",
       "      <td>제주도민</td>\n",
       "      <td>40대</td>\n",
       "      <td>여</td>\n",
       "      <td>2018-12</td>\n",
       "      <td>77</td>\n",
       "      <td>99</td>\n",
       "      <td>10021600</td>\n",
       "    </tr>\n",
       "    <tr>\n",
       "      <th>...</th>\n",
       "      <td>...</td>\n",
       "      <td>...</td>\n",
       "      <td>...</td>\n",
       "      <td>...</td>\n",
       "      <td>...</td>\n",
       "      <td>...</td>\n",
       "      <td>...</td>\n",
       "      <td>...</td>\n",
       "      <td>...</td>\n",
       "      <td>...</td>\n",
       "      <td>...</td>\n",
       "    </tr>\n",
       "    <tr>\n",
       "      <th>19568</th>\n",
       "      <td>제주도</td>\n",
       "      <td>서귀포시</td>\n",
       "      <td>도심</td>\n",
       "      <td>교통</td>\n",
       "      <td>내국인관광객</td>\n",
       "      <td>40대</td>\n",
       "      <td>남</td>\n",
       "      <td>2016-09</td>\n",
       "      <td>1778</td>\n",
       "      <td>2059</td>\n",
       "      <td>79696179</td>\n",
       "    </tr>\n",
       "    <tr>\n",
       "      <th>19569</th>\n",
       "      <td>제주도</td>\n",
       "      <td>서귀포시</td>\n",
       "      <td>도심</td>\n",
       "      <td>교통</td>\n",
       "      <td>내국인관광객</td>\n",
       "      <td>30대</td>\n",
       "      <td>여</td>\n",
       "      <td>2016-09</td>\n",
       "      <td>1441</td>\n",
       "      <td>1543</td>\n",
       "      <td>52066479</td>\n",
       "    </tr>\n",
       "    <tr>\n",
       "      <th>19570</th>\n",
       "      <td>제주도</td>\n",
       "      <td>서귀포시</td>\n",
       "      <td>도심</td>\n",
       "      <td>교통</td>\n",
       "      <td>내국인관광객</td>\n",
       "      <td>30대</td>\n",
       "      <td>남</td>\n",
       "      <td>2016-09</td>\n",
       "      <td>2358</td>\n",
       "      <td>2606</td>\n",
       "      <td>87972936</td>\n",
       "    </tr>\n",
       "    <tr>\n",
       "      <th>19571</th>\n",
       "      <td>제주도</td>\n",
       "      <td>서귀포시</td>\n",
       "      <td>도심</td>\n",
       "      <td>교통</td>\n",
       "      <td>내국인관광객</td>\n",
       "      <td>20대</td>\n",
       "      <td>여</td>\n",
       "      <td>2016-09</td>\n",
       "      <td>731</td>\n",
       "      <td>765</td>\n",
       "      <td>22788256</td>\n",
       "    </tr>\n",
       "    <tr>\n",
       "      <th>19572</th>\n",
       "      <td>제주도</td>\n",
       "      <td>서귀포시</td>\n",
       "      <td>도심</td>\n",
       "      <td>교통</td>\n",
       "      <td>내국인관광객</td>\n",
       "      <td>20대</td>\n",
       "      <td>남</td>\n",
       "      <td>2016-09</td>\n",
       "      <td>724</td>\n",
       "      <td>788</td>\n",
       "      <td>23430793</td>\n",
       "    </tr>\n",
       "  </tbody>\n",
       "</table>\n",
       "<p>19573 rows × 11 columns</p>\n",
       "</div>"
      ],
      "text/plain": [
       "       시도명  시군구명 지역구분 업종명  이용자 구분    연령대 성별       연월  이용자수  이용횟수      이용금액\n",
       "0      제주도   제주시   읍면  유흥    제주도민  60대이상  여  2018-12    23    29   4240100\n",
       "1      제주도   제주시   읍면  유흥    제주도민  60대이상  남  2018-12   114   190  27414000\n",
       "2      제주도   제주시   읍면  유흥    제주도민    50대  여  2018-12    52    71   6848000\n",
       "3      제주도   제주시   읍면  유흥    제주도민    50대  남  2018-12   259   458  91468500\n",
       "4      제주도   제주시   읍면  유흥    제주도민    40대  여  2018-12    77    99  10021600\n",
       "...    ...   ...  ...  ..     ...    ... ..      ...   ...   ...       ...\n",
       "19568  제주도  서귀포시   도심  교통  내국인관광객    40대  남  2016-09  1778  2059  79696179\n",
       "19569  제주도  서귀포시   도심  교통  내국인관광객    30대  여  2016-09  1441  1543  52066479\n",
       "19570  제주도  서귀포시   도심  교통  내국인관광객    30대  남  2016-09  2358  2606  87972936\n",
       "19571  제주도  서귀포시   도심  교통  내국인관광객    20대  여  2016-09   731   765  22788256\n",
       "19572  제주도  서귀포시   도심  교통  내국인관광객    20대  남  2016-09   724   788  23430793\n",
       "\n",
       "[19573 rows x 11 columns]"
      ]
     },
     "execution_count": 2,
     "metadata": {},
     "output_type": "execute_result"
    }
   ],
   "source": [
    "# 데이터 불러오기\n",
    "\n",
    "jeju_card_df = pd.read_csv('jeju_card.csv')\n",
    "jeju_card_df"
   ]
  },
  {
   "cell_type": "markdown",
   "id": "4a6cc06d",
   "metadata": {},
   "source": [
    "## A. 데이터 탐색 및 전처리"
   ]
  },
  {
   "cell_type": "markdown",
   "id": "baaa6d2e",
   "metadata": {},
   "source": [
    "### 1. 데이터 개수, 컬럼별 데이터 타입, 통계 정보, 결측값 존재 여부 등을 확인해 보세요."
   ]
  },
  {
   "cell_type": "code",
   "execution_count": 3,
   "id": "d0111758",
   "metadata": {},
   "outputs": [
    {
     "data": {
      "text/plain": [
       "(19573, 11)"
      ]
     },
     "execution_count": 3,
     "metadata": {},
     "output_type": "execute_result"
    }
   ],
   "source": [
    "# 데이터 탐색하기\n",
    "\n",
    "jeju_card_df.shape"
   ]
  },
  {
   "cell_type": "code",
   "execution_count": 4,
   "id": "fd787e16",
   "metadata": {},
   "outputs": [
    {
     "data": {
      "text/html": [
       "<div>\n",
       "<style scoped>\n",
       "    .dataframe tbody tr th:only-of-type {\n",
       "        vertical-align: middle;\n",
       "    }\n",
       "\n",
       "    .dataframe tbody tr th {\n",
       "        vertical-align: top;\n",
       "    }\n",
       "\n",
       "    .dataframe thead th {\n",
       "        text-align: right;\n",
       "    }\n",
       "</style>\n",
       "<table border=\"1\" class=\"dataframe\">\n",
       "  <thead>\n",
       "    <tr style=\"text-align: right;\">\n",
       "      <th></th>\n",
       "      <th>시도명</th>\n",
       "      <th>시군구명</th>\n",
       "      <th>지역구분</th>\n",
       "      <th>업종명</th>\n",
       "      <th>이용자 구분</th>\n",
       "      <th>연령대</th>\n",
       "      <th>성별</th>\n",
       "      <th>연월</th>\n",
       "      <th>이용자수</th>\n",
       "      <th>이용횟수</th>\n",
       "      <th>이용금액</th>\n",
       "    </tr>\n",
       "  </thead>\n",
       "  <tbody>\n",
       "    <tr>\n",
       "      <th>0</th>\n",
       "      <td>제주도</td>\n",
       "      <td>제주시</td>\n",
       "      <td>읍면</td>\n",
       "      <td>유흥</td>\n",
       "      <td>제주도민</td>\n",
       "      <td>60대이상</td>\n",
       "      <td>여</td>\n",
       "      <td>2018-12</td>\n",
       "      <td>23</td>\n",
       "      <td>29</td>\n",
       "      <td>4240100</td>\n",
       "    </tr>\n",
       "    <tr>\n",
       "      <th>1</th>\n",
       "      <td>제주도</td>\n",
       "      <td>제주시</td>\n",
       "      <td>읍면</td>\n",
       "      <td>유흥</td>\n",
       "      <td>제주도민</td>\n",
       "      <td>60대이상</td>\n",
       "      <td>남</td>\n",
       "      <td>2018-12</td>\n",
       "      <td>114</td>\n",
       "      <td>190</td>\n",
       "      <td>27414000</td>\n",
       "    </tr>\n",
       "    <tr>\n",
       "      <th>2</th>\n",
       "      <td>제주도</td>\n",
       "      <td>제주시</td>\n",
       "      <td>읍면</td>\n",
       "      <td>유흥</td>\n",
       "      <td>제주도민</td>\n",
       "      <td>50대</td>\n",
       "      <td>여</td>\n",
       "      <td>2018-12</td>\n",
       "      <td>52</td>\n",
       "      <td>71</td>\n",
       "      <td>6848000</td>\n",
       "    </tr>\n",
       "    <tr>\n",
       "      <th>3</th>\n",
       "      <td>제주도</td>\n",
       "      <td>제주시</td>\n",
       "      <td>읍면</td>\n",
       "      <td>유흥</td>\n",
       "      <td>제주도민</td>\n",
       "      <td>50대</td>\n",
       "      <td>남</td>\n",
       "      <td>2018-12</td>\n",
       "      <td>259</td>\n",
       "      <td>458</td>\n",
       "      <td>91468500</td>\n",
       "    </tr>\n",
       "    <tr>\n",
       "      <th>4</th>\n",
       "      <td>제주도</td>\n",
       "      <td>제주시</td>\n",
       "      <td>읍면</td>\n",
       "      <td>유흥</td>\n",
       "      <td>제주도민</td>\n",
       "      <td>40대</td>\n",
       "      <td>여</td>\n",
       "      <td>2018-12</td>\n",
       "      <td>77</td>\n",
       "      <td>99</td>\n",
       "      <td>10021600</td>\n",
       "    </tr>\n",
       "  </tbody>\n",
       "</table>\n",
       "</div>"
      ],
      "text/plain": [
       "   시도명 시군구명 지역구분 업종명 이용자 구분    연령대 성별       연월  이용자수  이용횟수      이용금액\n",
       "0  제주도  제주시   읍면  유흥   제주도민  60대이상  여  2018-12    23    29   4240100\n",
       "1  제주도  제주시   읍면  유흥   제주도민  60대이상  남  2018-12   114   190  27414000\n",
       "2  제주도  제주시   읍면  유흥   제주도민    50대  여  2018-12    52    71   6848000\n",
       "3  제주도  제주시   읍면  유흥   제주도민    50대  남  2018-12   259   458  91468500\n",
       "4  제주도  제주시   읍면  유흥   제주도민    40대  여  2018-12    77    99  10021600"
      ]
     },
     "execution_count": 4,
     "metadata": {},
     "output_type": "execute_result"
    }
   ],
   "source": [
    "jeju_card_df.head()"
   ]
  },
  {
   "cell_type": "code",
   "execution_count": 5,
   "id": "df80b23c",
   "metadata": {},
   "outputs": [
    {
     "name": "stdout",
     "output_type": "stream",
     "text": [
      "<class 'pandas.core.frame.DataFrame'>\n",
      "RangeIndex: 19573 entries, 0 to 19572\n",
      "Data columns (total 11 columns):\n",
      " #   Column  Non-Null Count  Dtype \n",
      "---  ------  --------------  ----- \n",
      " 0   시도명     19573 non-null  object\n",
      " 1   시군구명    19573 non-null  object\n",
      " 2   지역구분    19573 non-null  object\n",
      " 3   업종명     19573 non-null  object\n",
      " 4   이용자 구분  19573 non-null  object\n",
      " 5   연령대     19573 non-null  object\n",
      " 6   성별      19573 non-null  object\n",
      " 7   연월      19573 non-null  object\n",
      " 8   이용자수    19573 non-null  int64 \n",
      " 9   이용횟수    19573 non-null  int64 \n",
      " 10  이용금액    19573 non-null  int64 \n",
      "dtypes: int64(3), object(8)\n",
      "memory usage: 1.6+ MB\n"
     ]
    }
   ],
   "source": [
    "# 데이터 타입, 결측값(non-null)이 아닌 데이터 확인\n",
    "\n",
    "jeju_card_df.info()"
   ]
  },
  {
   "cell_type": "code",
   "execution_count": 6,
   "id": "bc8df8a6",
   "metadata": {},
   "outputs": [
    {
     "data": {
      "text/html": [
       "<div>\n",
       "<style scoped>\n",
       "    .dataframe tbody tr th:only-of-type {\n",
       "        vertical-align: middle;\n",
       "    }\n",
       "\n",
       "    .dataframe tbody tr th {\n",
       "        vertical-align: top;\n",
       "    }\n",
       "\n",
       "    .dataframe thead th {\n",
       "        text-align: right;\n",
       "    }\n",
       "</style>\n",
       "<table border=\"1\" class=\"dataframe\">\n",
       "  <thead>\n",
       "    <tr style=\"text-align: right;\">\n",
       "      <th></th>\n",
       "      <th>시도명</th>\n",
       "      <th>시군구명</th>\n",
       "      <th>지역구분</th>\n",
       "      <th>업종명</th>\n",
       "      <th>이용자 구분</th>\n",
       "      <th>연령대</th>\n",
       "      <th>성별</th>\n",
       "      <th>연월</th>\n",
       "      <th>이용자수</th>\n",
       "      <th>이용횟수</th>\n",
       "      <th>이용금액</th>\n",
       "    </tr>\n",
       "  </thead>\n",
       "  <tbody>\n",
       "    <tr>\n",
       "      <th>count</th>\n",
       "      <td>19573</td>\n",
       "      <td>19573</td>\n",
       "      <td>19573</td>\n",
       "      <td>19573</td>\n",
       "      <td>19573</td>\n",
       "      <td>19573</td>\n",
       "      <td>19573</td>\n",
       "      <td>19573</td>\n",
       "      <td>19573.000000</td>\n",
       "      <td>19573.000000</td>\n",
       "      <td>1.957300e+04</td>\n",
       "    </tr>\n",
       "    <tr>\n",
       "      <th>unique</th>\n",
       "      <td>1</td>\n",
       "      <td>2</td>\n",
       "      <td>2</td>\n",
       "      <td>8</td>\n",
       "      <td>2</td>\n",
       "      <td>7</td>\n",
       "      <td>2</td>\n",
       "      <td>28</td>\n",
       "      <td>NaN</td>\n",
       "      <td>NaN</td>\n",
       "      <td>NaN</td>\n",
       "    </tr>\n",
       "    <tr>\n",
       "      <th>top</th>\n",
       "      <td>제주도</td>\n",
       "      <td>제주시</td>\n",
       "      <td>도심</td>\n",
       "      <td>식음료</td>\n",
       "      <td>내국인관광객</td>\n",
       "      <td>50대</td>\n",
       "      <td>남</td>\n",
       "      <td>2017-10</td>\n",
       "      <td>NaN</td>\n",
       "      <td>NaN</td>\n",
       "      <td>NaN</td>\n",
       "    </tr>\n",
       "    <tr>\n",
       "      <th>freq</th>\n",
       "      <td>19573</td>\n",
       "      <td>9852</td>\n",
       "      <td>9858</td>\n",
       "      <td>2688</td>\n",
       "      <td>9807</td>\n",
       "      <td>3376</td>\n",
       "      <td>9795</td>\n",
       "      <td>738</td>\n",
       "      <td>NaN</td>\n",
       "      <td>NaN</td>\n",
       "      <td>NaN</td>\n",
       "    </tr>\n",
       "    <tr>\n",
       "      <th>mean</th>\n",
       "      <td>NaN</td>\n",
       "      <td>NaN</td>\n",
       "      <td>NaN</td>\n",
       "      <td>NaN</td>\n",
       "      <td>NaN</td>\n",
       "      <td>NaN</td>\n",
       "      <td>NaN</td>\n",
       "      <td>NaN</td>\n",
       "      <td>2987.681347</td>\n",
       "      <td>5980.462525</td>\n",
       "      <td>2.100849e+08</td>\n",
       "    </tr>\n",
       "    <tr>\n",
       "      <th>std</th>\n",
       "      <td>NaN</td>\n",
       "      <td>NaN</td>\n",
       "      <td>NaN</td>\n",
       "      <td>NaN</td>\n",
       "      <td>NaN</td>\n",
       "      <td>NaN</td>\n",
       "      <td>NaN</td>\n",
       "      <td>NaN</td>\n",
       "      <td>5331.172895</td>\n",
       "      <td>13623.951410</td>\n",
       "      <td>3.921408e+08</td>\n",
       "    </tr>\n",
       "    <tr>\n",
       "      <th>min</th>\n",
       "      <td>NaN</td>\n",
       "      <td>NaN</td>\n",
       "      <td>NaN</td>\n",
       "      <td>NaN</td>\n",
       "      <td>NaN</td>\n",
       "      <td>NaN</td>\n",
       "      <td>NaN</td>\n",
       "      <td>NaN</td>\n",
       "      <td>1.000000</td>\n",
       "      <td>1.000000</td>\n",
       "      <td>1.000000e+03</td>\n",
       "    </tr>\n",
       "    <tr>\n",
       "      <th>25%</th>\n",
       "      <td>NaN</td>\n",
       "      <td>NaN</td>\n",
       "      <td>NaN</td>\n",
       "      <td>NaN</td>\n",
       "      <td>NaN</td>\n",
       "      <td>NaN</td>\n",
       "      <td>NaN</td>\n",
       "      <td>NaN</td>\n",
       "      <td>254.000000</td>\n",
       "      <td>371.000000</td>\n",
       "      <td>1.765947e+07</td>\n",
       "    </tr>\n",
       "    <tr>\n",
       "      <th>50%</th>\n",
       "      <td>NaN</td>\n",
       "      <td>NaN</td>\n",
       "      <td>NaN</td>\n",
       "      <td>NaN</td>\n",
       "      <td>NaN</td>\n",
       "      <td>NaN</td>\n",
       "      <td>NaN</td>\n",
       "      <td>NaN</td>\n",
       "      <td>972.000000</td>\n",
       "      <td>1376.000000</td>\n",
       "      <td>7.142090e+07</td>\n",
       "    </tr>\n",
       "    <tr>\n",
       "      <th>75%</th>\n",
       "      <td>NaN</td>\n",
       "      <td>NaN</td>\n",
       "      <td>NaN</td>\n",
       "      <td>NaN</td>\n",
       "      <td>NaN</td>\n",
       "      <td>NaN</td>\n",
       "      <td>NaN</td>\n",
       "      <td>NaN</td>\n",
       "      <td>3169.000000</td>\n",
       "      <td>5710.000000</td>\n",
       "      <td>2.169743e+08</td>\n",
       "    </tr>\n",
       "    <tr>\n",
       "      <th>max</th>\n",
       "      <td>NaN</td>\n",
       "      <td>NaN</td>\n",
       "      <td>NaN</td>\n",
       "      <td>NaN</td>\n",
       "      <td>NaN</td>\n",
       "      <td>NaN</td>\n",
       "      <td>NaN</td>\n",
       "      <td>NaN</td>\n",
       "      <td>40329.000000</td>\n",
       "      <td>149274.000000</td>\n",
       "      <td>3.213235e+09</td>\n",
       "    </tr>\n",
       "  </tbody>\n",
       "</table>\n",
       "</div>"
      ],
      "text/plain": [
       "          시도명   시군구명   지역구분    업종명  이용자 구분    연령대     성별       연월  \\\n",
       "count   19573  19573  19573  19573   19573  19573  19573    19573   \n",
       "unique      1      2      2      8       2      7      2       28   \n",
       "top       제주도    제주시     도심    식음료  내국인관광객    50대      남  2017-10   \n",
       "freq    19573   9852   9858   2688    9807   3376   9795      738   \n",
       "mean      NaN    NaN    NaN    NaN     NaN    NaN    NaN      NaN   \n",
       "std       NaN    NaN    NaN    NaN     NaN    NaN    NaN      NaN   \n",
       "min       NaN    NaN    NaN    NaN     NaN    NaN    NaN      NaN   \n",
       "25%       NaN    NaN    NaN    NaN     NaN    NaN    NaN      NaN   \n",
       "50%       NaN    NaN    NaN    NaN     NaN    NaN    NaN      NaN   \n",
       "75%       NaN    NaN    NaN    NaN     NaN    NaN    NaN      NaN   \n",
       "max       NaN    NaN    NaN    NaN     NaN    NaN    NaN      NaN   \n",
       "\n",
       "                이용자수           이용횟수          이용금액  \n",
       "count   19573.000000   19573.000000  1.957300e+04  \n",
       "unique           NaN            NaN           NaN  \n",
       "top              NaN            NaN           NaN  \n",
       "freq             NaN            NaN           NaN  \n",
       "mean     2987.681347    5980.462525  2.100849e+08  \n",
       "std      5331.172895   13623.951410  3.921408e+08  \n",
       "min         1.000000       1.000000  1.000000e+03  \n",
       "25%       254.000000     371.000000  1.765947e+07  \n",
       "50%       972.000000    1376.000000  7.142090e+07  \n",
       "75%      3169.000000    5710.000000  2.169743e+08  \n",
       "max     40329.000000  149274.000000  3.213235e+09  "
      ]
     },
     "execution_count": 6,
     "metadata": {},
     "output_type": "execute_result"
    }
   ],
   "source": [
    "# 데이터의 통계 정보 요약(숫자) -> 다른 데이터 타입도 보고 싶다면, include='all' 추가\n",
    "\n",
    "jeju_card_df.describe(include='all')"
   ]
  },
  {
   "cell_type": "markdown",
   "id": "08eebd1f",
   "metadata": {},
   "source": [
    "### 2. 각 컬럼이 어떤 값들로 이루어져 있는지 확인해 보세요."
   ]
  },
  {
   "cell_type": "code",
   "execution_count": 7,
   "id": "5912df3d",
   "metadata": {},
   "outputs": [
    {
     "data": {
      "text/plain": [
       "Index(['시도명', '시군구명', '지역구분', '업종명', '이용자 구분', '연령대', '성별', '연월'], dtype='object')"
      ]
     },
     "execution_count": 7,
     "metadata": {},
     "output_type": "execute_result"
    }
   ],
   "source": [
    "object_columns = jeju_card_df.columns[jeju_card_df.dtypes == 'object']\n",
    "object_columns"
   ]
  },
  {
   "cell_type": "code",
   "execution_count": 8,
   "id": "6ae01deb",
   "metadata": {
    "scrolled": true
   },
   "outputs": [
    {
     "name": "stdout",
     "output_type": "stream",
     "text": [
      "시도명\n",
      "['제주도'] \n",
      "\n",
      "시군구명\n",
      "['제주시' '서귀포시'] \n",
      "\n",
      "지역구분\n",
      "['읍면' '도심'] \n",
      "\n",
      "업종명\n",
      "['유흥' '식음료' '숙박' '쇼핑' '소매' '문화/레져' '교통' '기타'] \n",
      "\n",
      "이용자 구분\n",
      "['제주도민' '내국인관광객'] \n",
      "\n",
      "연령대\n",
      "['60대이상' '50대' '40대' '30대' '20대미만' '20대' '20 미만'] \n",
      "\n",
      "성별\n",
      "['여' '남'] \n",
      "\n",
      "연월\n",
      "['2018-12' '2018-11' '2018-10' '2018-09' '2018-08' '2018-07' '2018-06'\n",
      " '2018-05' '2018-04' '2018-03' '2018-02' '2018-01' '2017-12' '2017-11'\n",
      " '2017-10' '2017-09' '2017-08' '2017-07' '2017-06' '2017-05' '2017-04'\n",
      " '2017-03' '2017-02' '2017-01' '2016-12' '2016-11' '2016-10' '2016-09'] \n",
      "\n"
     ]
    }
   ],
   "source": [
    "for col in object_columns:\n",
    "    print(col)\n",
    "    print(jeju_card_df[col].unique(), '\\n')"
   ]
  },
  {
   "cell_type": "markdown",
   "id": "65cd785a",
   "metadata": {},
   "source": [
    "### 3. 2017년과 2018년의 데이터만 추출해 주세요."
   ]
  },
  {
   "cell_type": "code",
   "execution_count": 9,
   "id": "321aa33d",
   "metadata": {},
   "outputs": [],
   "source": [
    "jeju_card_df['연도'] = jeju_card_df['연월'].str.split('-').str[0]"
   ]
  },
  {
   "cell_type": "code",
   "execution_count": 10,
   "id": "59779471",
   "metadata": {},
   "outputs": [],
   "source": [
    "jeju_card_df = jeju_card_df[jeju_card_df['연도'] != '2016']"
   ]
  },
  {
   "cell_type": "code",
   "execution_count": 11,
   "id": "e67a4bad",
   "metadata": {},
   "outputs": [
    {
     "data": {
      "text/plain": [
       "(16707, 12)"
      ]
     },
     "execution_count": 11,
     "metadata": {},
     "output_type": "execute_result"
    }
   ],
   "source": [
    "jeju_card_df.shape"
   ]
  },
  {
   "cell_type": "markdown",
   "id": "a4275332",
   "metadata": {},
   "source": [
    "## 연령대 컬럼 전처리"
   ]
  },
  {
   "cell_type": "code",
   "execution_count": 12,
   "id": "3c7c5b91",
   "metadata": {},
   "outputs": [
    {
     "name": "stdout",
     "output_type": "stream",
     "text": [
      "시도명\n",
      "['제주도'] \n",
      "\n",
      "시군구명\n",
      "['제주시' '서귀포시'] \n",
      "\n",
      "지역구분\n",
      "['읍면' '도심'] \n",
      "\n",
      "업종명\n",
      "['유흥' '식음료' '숙박' '쇼핑' '소매' '문화/레져' '교통' '기타'] \n",
      "\n",
      "이용자 구분\n",
      "['제주도민' '내국인관광객'] \n",
      "\n",
      "연령대\n",
      "['60대이상' '50대' '40대' '30대' '20대미만' '20대' '20 미만'] \n",
      "\n",
      "성별\n",
      "['여' '남'] \n",
      "\n",
      "연월\n",
      "['2018-12' '2018-11' '2018-10' '2018-09' '2018-08' '2018-07' '2018-06'\n",
      " '2018-05' '2018-04' '2018-03' '2018-02' '2018-01' '2017-12' '2017-11'\n",
      " '2017-10' '2017-09' '2017-08' '2017-07' '2017-06' '2017-05' '2017-04'\n",
      " '2017-03' '2017-02' '2017-01'] \n",
      "\n"
     ]
    }
   ],
   "source": [
    "for col in object_columns:\n",
    "    print(col)\n",
    "    print(jeju_card_df[col].unique(), '\\n')"
   ]
  },
  {
   "cell_type": "code",
   "execution_count": 13,
   "id": "ea311230",
   "metadata": {},
   "outputs": [],
   "source": [
    "jeju_card_df.loc[jeju_card_df['연령대'] == '20 미만', '연령대'] = '20대미만'"
   ]
  },
  {
   "cell_type": "code",
   "execution_count": 14,
   "id": "f7f06a67",
   "metadata": {},
   "outputs": [
    {
     "data": {
      "text/plain": [
       "array(['60대이상', '50대', '40대', '30대', '20대미만', '20대'], dtype=object)"
      ]
     },
     "execution_count": 14,
     "metadata": {},
     "output_type": "execute_result"
    }
   ],
   "source": [
    "jeju_card_df['연령대'].unique()"
   ]
  },
  {
   "cell_type": "markdown",
   "id": "252c2a8b",
   "metadata": {},
   "source": [
    "## B. 연월별 이용 금액 시각화"
   ]
  },
  {
   "cell_type": "markdown",
   "id": "c822fb33",
   "metadata": {},
   "source": [
    "### 1. 연월별 카드 이용 추이를 비교해 보세요. \n",
    "### 2017년과 2018년, 두 연도 사이에 어떤 차이가 있나요? 왜 그런 차이가 나는지도 한번 확인해 보세요."
   ]
  },
  {
   "cell_type": "code",
   "execution_count": 15,
   "id": "7cc2151d",
   "metadata": {},
   "outputs": [
    {
     "data": {
      "text/html": [
       "<div>\n",
       "<style scoped>\n",
       "    .dataframe tbody tr th:only-of-type {\n",
       "        vertical-align: middle;\n",
       "    }\n",
       "\n",
       "    .dataframe tbody tr th {\n",
       "        vertical-align: top;\n",
       "    }\n",
       "\n",
       "    .dataframe thead th {\n",
       "        text-align: right;\n",
       "    }\n",
       "</style>\n",
       "<table border=\"1\" class=\"dataframe\">\n",
       "  <thead>\n",
       "    <tr style=\"text-align: right;\">\n",
       "      <th></th>\n",
       "      <th>이용자수</th>\n",
       "      <th>이용횟수</th>\n",
       "      <th>이용금액</th>\n",
       "    </tr>\n",
       "    <tr>\n",
       "      <th>연월</th>\n",
       "      <th></th>\n",
       "      <th></th>\n",
       "      <th></th>\n",
       "    </tr>\n",
       "  </thead>\n",
       "  <tbody>\n",
       "    <tr>\n",
       "      <th>2017-01</th>\n",
       "      <td>2044697</td>\n",
       "      <td>3962878</td>\n",
       "      <td>158062633602</td>\n",
       "    </tr>\n",
       "    <tr>\n",
       "      <th>2017-02</th>\n",
       "      <td>1937989</td>\n",
       "      <td>3686906</td>\n",
       "      <td>142673272629</td>\n",
       "    </tr>\n",
       "    <tr>\n",
       "      <th>2017-03</th>\n",
       "      <td>2139087</td>\n",
       "      <td>4265024</td>\n",
       "      <td>158170622304</td>\n",
       "    </tr>\n",
       "    <tr>\n",
       "      <th>2017-04</th>\n",
       "      <td>2261037</td>\n",
       "      <td>4428571</td>\n",
       "      <td>164145266282</td>\n",
       "    </tr>\n",
       "    <tr>\n",
       "      <th>2017-05</th>\n",
       "      <td>2422539</td>\n",
       "      <td>4744952</td>\n",
       "      <td>174450463090</td>\n",
       "    </tr>\n",
       "    <tr>\n",
       "      <th>2017-06</th>\n",
       "      <td>2328383</td>\n",
       "      <td>4606602</td>\n",
       "      <td>166023890619</td>\n",
       "    </tr>\n",
       "    <tr>\n",
       "      <th>2017-07</th>\n",
       "      <td>2520117</td>\n",
       "      <td>5048178</td>\n",
       "      <td>177270011408</td>\n",
       "    </tr>\n",
       "    <tr>\n",
       "      <th>2017-08</th>\n",
       "      <td>2634037</td>\n",
       "      <td>5212389</td>\n",
       "      <td>178853518885</td>\n",
       "    </tr>\n",
       "    <tr>\n",
       "      <th>2017-09</th>\n",
       "      <td>2374142</td>\n",
       "      <td>4765159</td>\n",
       "      <td>168355520204</td>\n",
       "    </tr>\n",
       "    <tr>\n",
       "      <th>2017-10</th>\n",
       "      <td>2270758</td>\n",
       "      <td>4453613</td>\n",
       "      <td>164810287642</td>\n",
       "    </tr>\n",
       "    <tr>\n",
       "      <th>2017-11</th>\n",
       "      <td>2096878</td>\n",
       "      <td>4211128</td>\n",
       "      <td>158655933909</td>\n",
       "    </tr>\n",
       "    <tr>\n",
       "      <th>2017-12</th>\n",
       "      <td>1817943</td>\n",
       "      <td>3646490</td>\n",
       "      <td>129093242163</td>\n",
       "    </tr>\n",
       "    <tr>\n",
       "      <th>2018-01</th>\n",
       "      <td>1829588</td>\n",
       "      <td>3660367</td>\n",
       "      <td>124526581076</td>\n",
       "    </tr>\n",
       "    <tr>\n",
       "      <th>2018-02</th>\n",
       "      <td>1639755</td>\n",
       "      <td>3196005</td>\n",
       "      <td>110731027342</td>\n",
       "    </tr>\n",
       "    <tr>\n",
       "      <th>2018-03</th>\n",
       "      <td>1862460</td>\n",
       "      <td>3781925</td>\n",
       "      <td>125135988754</td>\n",
       "    </tr>\n",
       "    <tr>\n",
       "      <th>2018-04</th>\n",
       "      <td>1974810</td>\n",
       "      <td>3949832</td>\n",
       "      <td>132204247821</td>\n",
       "    </tr>\n",
       "    <tr>\n",
       "      <th>2018-05</th>\n",
       "      <td>2045132</td>\n",
       "      <td>4167409</td>\n",
       "      <td>137375672338</td>\n",
       "    </tr>\n",
       "    <tr>\n",
       "      <th>2018-06</th>\n",
       "      <td>2059386</td>\n",
       "      <td>4203842</td>\n",
       "      <td>131776008635</td>\n",
       "    </tr>\n",
       "    <tr>\n",
       "      <th>2018-07</th>\n",
       "      <td>2122106</td>\n",
       "      <td>4408221</td>\n",
       "      <td>135229618598</td>\n",
       "    </tr>\n",
       "    <tr>\n",
       "      <th>2018-08</th>\n",
       "      <td>2277358</td>\n",
       "      <td>4679145</td>\n",
       "      <td>142897760980</td>\n",
       "    </tr>\n",
       "    <tr>\n",
       "      <th>2018-09</th>\n",
       "      <td>2015885</td>\n",
       "      <td>4148310</td>\n",
       "      <td>133242069909</td>\n",
       "    </tr>\n",
       "    <tr>\n",
       "      <th>2018-10</th>\n",
       "      <td>1944085</td>\n",
       "      <td>4064163</td>\n",
       "      <td>131138062042</td>\n",
       "    </tr>\n",
       "    <tr>\n",
       "      <th>2018-11</th>\n",
       "      <td>1820161</td>\n",
       "      <td>3789714</td>\n",
       "      <td>124881420094</td>\n",
       "    </tr>\n",
       "    <tr>\n",
       "      <th>2018-12</th>\n",
       "      <td>1830181</td>\n",
       "      <td>3793232</td>\n",
       "      <td>127112502235</td>\n",
       "    </tr>\n",
       "  </tbody>\n",
       "</table>\n",
       "</div>"
      ],
      "text/plain": [
       "            이용자수     이용횟수          이용금액\n",
       "연월                                     \n",
       "2017-01  2044697  3962878  158062633602\n",
       "2017-02  1937989  3686906  142673272629\n",
       "2017-03  2139087  4265024  158170622304\n",
       "2017-04  2261037  4428571  164145266282\n",
       "2017-05  2422539  4744952  174450463090\n",
       "2017-06  2328383  4606602  166023890619\n",
       "2017-07  2520117  5048178  177270011408\n",
       "2017-08  2634037  5212389  178853518885\n",
       "2017-09  2374142  4765159  168355520204\n",
       "2017-10  2270758  4453613  164810287642\n",
       "2017-11  2096878  4211128  158655933909\n",
       "2017-12  1817943  3646490  129093242163\n",
       "2018-01  1829588  3660367  124526581076\n",
       "2018-02  1639755  3196005  110731027342\n",
       "2018-03  1862460  3781925  125135988754\n",
       "2018-04  1974810  3949832  132204247821\n",
       "2018-05  2045132  4167409  137375672338\n",
       "2018-06  2059386  4203842  131776008635\n",
       "2018-07  2122106  4408221  135229618598\n",
       "2018-08  2277358  4679145  142897760980\n",
       "2018-09  2015885  4148310  133242069909\n",
       "2018-10  1944085  4064163  131138062042\n",
       "2018-11  1820161  3789714  124881420094\n",
       "2018-12  1830181  3793232  127112502235"
      ]
     },
     "execution_count": 15,
     "metadata": {},
     "output_type": "execute_result"
    }
   ],
   "source": [
    "jeju_card_df.groupby('연월').sum(numeric_only=True)"
   ]
  },
  {
   "cell_type": "code",
   "execution_count": 16,
   "id": "b4e9aafc",
   "metadata": {},
   "outputs": [
    {
     "data": {
      "text/html": [
       "<div>\n",
       "<style scoped>\n",
       "    .dataframe tbody tr th:only-of-type {\n",
       "        vertical-align: middle;\n",
       "    }\n",
       "\n",
       "    .dataframe tbody tr th {\n",
       "        vertical-align: top;\n",
       "    }\n",
       "\n",
       "    .dataframe thead th {\n",
       "        text-align: right;\n",
       "    }\n",
       "</style>\n",
       "<table border=\"1\" class=\"dataframe\">\n",
       "  <thead>\n",
       "    <tr style=\"text-align: right;\">\n",
       "      <th></th>\n",
       "      <th>연월</th>\n",
       "      <th>이용자수</th>\n",
       "      <th>이용횟수</th>\n",
       "      <th>이용금액</th>\n",
       "    </tr>\n",
       "  </thead>\n",
       "  <tbody>\n",
       "    <tr>\n",
       "      <th>0</th>\n",
       "      <td>2017-01</td>\n",
       "      <td>2044697</td>\n",
       "      <td>3962878</td>\n",
       "      <td>158062633602</td>\n",
       "    </tr>\n",
       "    <tr>\n",
       "      <th>1</th>\n",
       "      <td>2017-02</td>\n",
       "      <td>1937989</td>\n",
       "      <td>3686906</td>\n",
       "      <td>142673272629</td>\n",
       "    </tr>\n",
       "    <tr>\n",
       "      <th>2</th>\n",
       "      <td>2017-03</td>\n",
       "      <td>2139087</td>\n",
       "      <td>4265024</td>\n",
       "      <td>158170622304</td>\n",
       "    </tr>\n",
       "    <tr>\n",
       "      <th>3</th>\n",
       "      <td>2017-04</td>\n",
       "      <td>2261037</td>\n",
       "      <td>4428571</td>\n",
       "      <td>164145266282</td>\n",
       "    </tr>\n",
       "    <tr>\n",
       "      <th>4</th>\n",
       "      <td>2017-05</td>\n",
       "      <td>2422539</td>\n",
       "      <td>4744952</td>\n",
       "      <td>174450463090</td>\n",
       "    </tr>\n",
       "    <tr>\n",
       "      <th>5</th>\n",
       "      <td>2017-06</td>\n",
       "      <td>2328383</td>\n",
       "      <td>4606602</td>\n",
       "      <td>166023890619</td>\n",
       "    </tr>\n",
       "    <tr>\n",
       "      <th>6</th>\n",
       "      <td>2017-07</td>\n",
       "      <td>2520117</td>\n",
       "      <td>5048178</td>\n",
       "      <td>177270011408</td>\n",
       "    </tr>\n",
       "    <tr>\n",
       "      <th>7</th>\n",
       "      <td>2017-08</td>\n",
       "      <td>2634037</td>\n",
       "      <td>5212389</td>\n",
       "      <td>178853518885</td>\n",
       "    </tr>\n",
       "    <tr>\n",
       "      <th>8</th>\n",
       "      <td>2017-09</td>\n",
       "      <td>2374142</td>\n",
       "      <td>4765159</td>\n",
       "      <td>168355520204</td>\n",
       "    </tr>\n",
       "    <tr>\n",
       "      <th>9</th>\n",
       "      <td>2017-10</td>\n",
       "      <td>2270758</td>\n",
       "      <td>4453613</td>\n",
       "      <td>164810287642</td>\n",
       "    </tr>\n",
       "    <tr>\n",
       "      <th>10</th>\n",
       "      <td>2017-11</td>\n",
       "      <td>2096878</td>\n",
       "      <td>4211128</td>\n",
       "      <td>158655933909</td>\n",
       "    </tr>\n",
       "    <tr>\n",
       "      <th>11</th>\n",
       "      <td>2017-12</td>\n",
       "      <td>1817943</td>\n",
       "      <td>3646490</td>\n",
       "      <td>129093242163</td>\n",
       "    </tr>\n",
       "    <tr>\n",
       "      <th>12</th>\n",
       "      <td>2018-01</td>\n",
       "      <td>1829588</td>\n",
       "      <td>3660367</td>\n",
       "      <td>124526581076</td>\n",
       "    </tr>\n",
       "    <tr>\n",
       "      <th>13</th>\n",
       "      <td>2018-02</td>\n",
       "      <td>1639755</td>\n",
       "      <td>3196005</td>\n",
       "      <td>110731027342</td>\n",
       "    </tr>\n",
       "    <tr>\n",
       "      <th>14</th>\n",
       "      <td>2018-03</td>\n",
       "      <td>1862460</td>\n",
       "      <td>3781925</td>\n",
       "      <td>125135988754</td>\n",
       "    </tr>\n",
       "    <tr>\n",
       "      <th>15</th>\n",
       "      <td>2018-04</td>\n",
       "      <td>1974810</td>\n",
       "      <td>3949832</td>\n",
       "      <td>132204247821</td>\n",
       "    </tr>\n",
       "    <tr>\n",
       "      <th>16</th>\n",
       "      <td>2018-05</td>\n",
       "      <td>2045132</td>\n",
       "      <td>4167409</td>\n",
       "      <td>137375672338</td>\n",
       "    </tr>\n",
       "    <tr>\n",
       "      <th>17</th>\n",
       "      <td>2018-06</td>\n",
       "      <td>2059386</td>\n",
       "      <td>4203842</td>\n",
       "      <td>131776008635</td>\n",
       "    </tr>\n",
       "    <tr>\n",
       "      <th>18</th>\n",
       "      <td>2018-07</td>\n",
       "      <td>2122106</td>\n",
       "      <td>4408221</td>\n",
       "      <td>135229618598</td>\n",
       "    </tr>\n",
       "    <tr>\n",
       "      <th>19</th>\n",
       "      <td>2018-08</td>\n",
       "      <td>2277358</td>\n",
       "      <td>4679145</td>\n",
       "      <td>142897760980</td>\n",
       "    </tr>\n",
       "    <tr>\n",
       "      <th>20</th>\n",
       "      <td>2018-09</td>\n",
       "      <td>2015885</td>\n",
       "      <td>4148310</td>\n",
       "      <td>133242069909</td>\n",
       "    </tr>\n",
       "    <tr>\n",
       "      <th>21</th>\n",
       "      <td>2018-10</td>\n",
       "      <td>1944085</td>\n",
       "      <td>4064163</td>\n",
       "      <td>131138062042</td>\n",
       "    </tr>\n",
       "    <tr>\n",
       "      <th>22</th>\n",
       "      <td>2018-11</td>\n",
       "      <td>1820161</td>\n",
       "      <td>3789714</td>\n",
       "      <td>124881420094</td>\n",
       "    </tr>\n",
       "    <tr>\n",
       "      <th>23</th>\n",
       "      <td>2018-12</td>\n",
       "      <td>1830181</td>\n",
       "      <td>3793232</td>\n",
       "      <td>127112502235</td>\n",
       "    </tr>\n",
       "  </tbody>\n",
       "</table>\n",
       "</div>"
      ],
      "text/plain": [
       "         연월     이용자수     이용횟수          이용금액\n",
       "0   2017-01  2044697  3962878  158062633602\n",
       "1   2017-02  1937989  3686906  142673272629\n",
       "2   2017-03  2139087  4265024  158170622304\n",
       "3   2017-04  2261037  4428571  164145266282\n",
       "4   2017-05  2422539  4744952  174450463090\n",
       "5   2017-06  2328383  4606602  166023890619\n",
       "6   2017-07  2520117  5048178  177270011408\n",
       "7   2017-08  2634037  5212389  178853518885\n",
       "8   2017-09  2374142  4765159  168355520204\n",
       "9   2017-10  2270758  4453613  164810287642\n",
       "10  2017-11  2096878  4211128  158655933909\n",
       "11  2017-12  1817943  3646490  129093242163\n",
       "12  2018-01  1829588  3660367  124526581076\n",
       "13  2018-02  1639755  3196005  110731027342\n",
       "14  2018-03  1862460  3781925  125135988754\n",
       "15  2018-04  1974810  3949832  132204247821\n",
       "16  2018-05  2045132  4167409  137375672338\n",
       "17  2018-06  2059386  4203842  131776008635\n",
       "18  2018-07  2122106  4408221  135229618598\n",
       "19  2018-08  2277358  4679145  142897760980\n",
       "20  2018-09  2015885  4148310  133242069909\n",
       "21  2018-10  1944085  4064163  131138062042\n",
       "22  2018-11  1820161  3789714  124881420094\n",
       "23  2018-12  1830181  3793232  127112502235"
      ]
     },
     "execution_count": 16,
     "metadata": {},
     "output_type": "execute_result"
    }
   ],
   "source": [
    "groupby_ym = jeju_card_df.groupby('연월').sum(numeric_only=True).reset_index()\n",
    "groupby_ym"
   ]
  },
  {
   "cell_type": "code",
   "execution_count": 17,
   "id": "b404f2e5",
   "metadata": {},
   "outputs": [
    {
     "data": {
      "text/plain": [
       "Text(0, 0.5, '이용금액(억)')"
      ]
     },
     "execution_count": 17,
     "metadata": {},
     "output_type": "execute_result"
    },
    {
     "name": "stderr",
     "output_type": "stream",
     "text": [
      "/Users/crema/anaconda3/lib/python3.11/site-packages/IPython/core/events.py:93: UserWarning: Glyph 51060 (\\N{HANGUL SYLLABLE I}) missing from current font.\n",
      "  func(*args, **kwargs)\n",
      "/Users/crema/anaconda3/lib/python3.11/site-packages/IPython/core/events.py:93: UserWarning: Glyph 50857 (\\N{HANGUL SYLLABLE YONG}) missing from current font.\n",
      "  func(*args, **kwargs)\n",
      "/Users/crema/anaconda3/lib/python3.11/site-packages/IPython/core/events.py:93: UserWarning: Glyph 44552 (\\N{HANGUL SYLLABLE GEUM}) missing from current font.\n",
      "  func(*args, **kwargs)\n",
      "/Users/crema/anaconda3/lib/python3.11/site-packages/IPython/core/events.py:93: UserWarning: Glyph 50529 (\\N{HANGUL SYLLABLE AEG}) missing from current font.\n",
      "  func(*args, **kwargs)\n",
      "/Users/crema/anaconda3/lib/python3.11/site-packages/IPython/core/events.py:93: UserWarning: Glyph 50613 (\\N{HANGUL SYLLABLE EOG}) missing from current font.\n",
      "  func(*args, **kwargs)\n",
      "/Users/crema/anaconda3/lib/python3.11/site-packages/IPython/core/events.py:93: UserWarning: Glyph 50672 (\\N{HANGUL SYLLABLE YEON}) missing from current font.\n",
      "  func(*args, **kwargs)\n",
      "/Users/crema/anaconda3/lib/python3.11/site-packages/IPython/core/events.py:93: UserWarning: Glyph 50900 (\\N{HANGUL SYLLABLE WEOL}) missing from current font.\n",
      "  func(*args, **kwargs)\n",
      "/Users/crema/anaconda3/lib/python3.11/site-packages/IPython/core/events.py:93: UserWarning: Glyph 48324 (\\N{HANGUL SYLLABLE BYEOL}) missing from current font.\n",
      "  func(*args, **kwargs)\n",
      "/Users/crema/anaconda3/lib/python3.11/site-packages/IPython/core/events.py:93: UserWarning: Glyph 52852 (\\N{HANGUL SYLLABLE KA}) missing from current font.\n",
      "  func(*args, **kwargs)\n",
      "/Users/crema/anaconda3/lib/python3.11/site-packages/IPython/core/events.py:93: UserWarning: Glyph 46300 (\\N{HANGUL SYLLABLE DEU}) missing from current font.\n",
      "  func(*args, **kwargs)\n",
      "/Users/crema/anaconda3/lib/python3.11/site-packages/IPython/core/pylabtools.py:152: UserWarning: Glyph 51060 (\\N{HANGUL SYLLABLE I}) missing from current font.\n",
      "  fig.canvas.print_figure(bytes_io, **kw)\n",
      "/Users/crema/anaconda3/lib/python3.11/site-packages/IPython/core/pylabtools.py:152: UserWarning: Glyph 50857 (\\N{HANGUL SYLLABLE YONG}) missing from current font.\n",
      "  fig.canvas.print_figure(bytes_io, **kw)\n",
      "/Users/crema/anaconda3/lib/python3.11/site-packages/IPython/core/pylabtools.py:152: UserWarning: Glyph 44552 (\\N{HANGUL SYLLABLE GEUM}) missing from current font.\n",
      "  fig.canvas.print_figure(bytes_io, **kw)\n",
      "/Users/crema/anaconda3/lib/python3.11/site-packages/IPython/core/pylabtools.py:152: UserWarning: Glyph 50529 (\\N{HANGUL SYLLABLE AEG}) missing from current font.\n",
      "  fig.canvas.print_figure(bytes_io, **kw)\n",
      "/Users/crema/anaconda3/lib/python3.11/site-packages/IPython/core/pylabtools.py:152: UserWarning: Glyph 50613 (\\N{HANGUL SYLLABLE EOG}) missing from current font.\n",
      "  fig.canvas.print_figure(bytes_io, **kw)\n",
      "/Users/crema/anaconda3/lib/python3.11/site-packages/IPython/core/pylabtools.py:152: UserWarning: Glyph 50672 (\\N{HANGUL SYLLABLE YEON}) missing from current font.\n",
      "  fig.canvas.print_figure(bytes_io, **kw)\n",
      "/Users/crema/anaconda3/lib/python3.11/site-packages/IPython/core/pylabtools.py:152: UserWarning: Glyph 50900 (\\N{HANGUL SYLLABLE WEOL}) missing from current font.\n",
      "  fig.canvas.print_figure(bytes_io, **kw)\n",
      "/Users/crema/anaconda3/lib/python3.11/site-packages/IPython/core/pylabtools.py:152: UserWarning: Glyph 48324 (\\N{HANGUL SYLLABLE BYEOL}) missing from current font.\n",
      "  fig.canvas.print_figure(bytes_io, **kw)\n",
      "/Users/crema/anaconda3/lib/python3.11/site-packages/IPython/core/pylabtools.py:152: UserWarning: Glyph 52852 (\\N{HANGUL SYLLABLE KA}) missing from current font.\n",
      "  fig.canvas.print_figure(bytes_io, **kw)\n",
      "/Users/crema/anaconda3/lib/python3.11/site-packages/IPython/core/pylabtools.py:152: UserWarning: Glyph 46300 (\\N{HANGUL SYLLABLE DEU}) missing from current font.\n",
      "  fig.canvas.print_figure(bytes_io, **kw)\n"
     ]
    },
    {
     "data": {
      "image/png": "[encoded data removed]",
      "text/plain": [
       "<Figure size 640x480 with 1 Axes>"
      ]
     },
     "metadata": {},
     "output_type": "display_data"
    }
   ],
   "source": [
    "sns.barplot(data=groupby_ym, x='연월', y='이용금액')\n",
    "plt.rc('font', family='AppleGothic')\n",
    "plt.rcParams['figure.figsize'] = (10, 5)\n",
    "plt.xticks(rotation=90)\n",
    "plt.gca().yaxis.set_major_formatter(plt.FuncFormatter(lambda x, _: f'{x/100000000:,.0f}'))\n",
    "plt.title('연월별 카드 이용 금액')\n",
    "plt.ylabel('이용금액(억)')"
   ]
  },
  {
   "cell_type": "markdown",
   "id": "4c9551c9",
   "metadata": {},
   "source": [
    "### 2. 2017년과 2018년의 이용 금액 비교\n",
    "### 이용자수, 소비금액, 1회당 소비금액을 비교해 보세요.\n"
   ]
  },
  {
   "cell_type": "markdown",
   "id": "a5aadafc",
   "metadata": {},
   "source": [
    "### 연령대별로 어떤 업종에 많은 금액을 지출하는지 확인해 보세요."
   ]
  },
  {
   "cell_type": "code",
   "execution_count": 18,
   "id": "80046769",
   "metadata": {},
   "outputs": [
    {
     "data": {
      "text/html": [
       "<div>\n",
       "<style scoped>\n",
       "    .dataframe tbody tr th:only-of-type {\n",
       "        vertical-align: middle;\n",
       "    }\n",
       "\n",
       "    .dataframe tbody tr th {\n",
       "        vertical-align: top;\n",
       "    }\n",
       "\n",
       "    .dataframe thead th {\n",
       "        text-align: right;\n",
       "    }\n",
       "</style>\n",
       "<table border=\"1\" class=\"dataframe\">\n",
       "  <thead>\n",
       "    <tr style=\"text-align: right;\">\n",
       "      <th></th>\n",
       "      <th>연도</th>\n",
       "      <th>연령대</th>\n",
       "      <th>이용자수</th>\n",
       "      <th>이용횟수</th>\n",
       "      <th>이용금액</th>\n",
       "    </tr>\n",
       "  </thead>\n",
       "  <tbody>\n",
       "    <tr>\n",
       "      <th>0</th>\n",
       "      <td>2017</td>\n",
       "      <td>20대</td>\n",
       "      <td>4800559</td>\n",
       "      <td>9304114</td>\n",
       "      <td>208175160124</td>\n",
       "    </tr>\n",
       "    <tr>\n",
       "      <th>1</th>\n",
       "      <td>2017</td>\n",
       "      <td>20대미만</td>\n",
       "      <td>203078</td>\n",
       "      <td>429896</td>\n",
       "      <td>4996657612</td>\n",
       "    </tr>\n",
       "    <tr>\n",
       "      <th>2</th>\n",
       "      <td>2017</td>\n",
       "      <td>30대</td>\n",
       "      <td>7080363</td>\n",
       "      <td>13499213</td>\n",
       "      <td>437721213544</td>\n",
       "    </tr>\n",
       "    <tr>\n",
       "      <th>3</th>\n",
       "      <td>2017</td>\n",
       "      <td>40대</td>\n",
       "      <td>6965143</td>\n",
       "      <td>14414930</td>\n",
       "      <td>561248406540</td>\n",
       "    </tr>\n",
       "    <tr>\n",
       "      <th>4</th>\n",
       "      <td>2017</td>\n",
       "      <td>50대</td>\n",
       "      <td>5158034</td>\n",
       "      <td>10314259</td>\n",
       "      <td>468286978356</td>\n",
       "    </tr>\n",
       "    <tr>\n",
       "      <th>5</th>\n",
       "      <td>2017</td>\n",
       "      <td>60대이상</td>\n",
       "      <td>2640430</td>\n",
       "      <td>5069478</td>\n",
       "      <td>260136246561</td>\n",
       "    </tr>\n",
       "    <tr>\n",
       "      <th>6</th>\n",
       "      <td>2018</td>\n",
       "      <td>20대</td>\n",
       "      <td>4262563</td>\n",
       "      <td>8714136</td>\n",
       "      <td>175770246392</td>\n",
       "    </tr>\n",
       "    <tr>\n",
       "      <th>7</th>\n",
       "      <td>2018</td>\n",
       "      <td>20대미만</td>\n",
       "      <td>216056</td>\n",
       "      <td>475236</td>\n",
       "      <td>5027234286</td>\n",
       "    </tr>\n",
       "    <tr>\n",
       "      <th>8</th>\n",
       "      <td>2018</td>\n",
       "      <td>30대</td>\n",
       "      <td>5759053</td>\n",
       "      <td>11372820</td>\n",
       "      <td>320955678476</td>\n",
       "    </tr>\n",
       "    <tr>\n",
       "      <th>9</th>\n",
       "      <td>2018</td>\n",
       "      <td>40대</td>\n",
       "      <td>6081331</td>\n",
       "      <td>12925032</td>\n",
       "      <td>442123304148</td>\n",
       "    </tr>\n",
       "    <tr>\n",
       "      <th>10</th>\n",
       "      <td>2018</td>\n",
       "      <td>50대</td>\n",
       "      <td>4646069</td>\n",
       "      <td>9557381</td>\n",
       "      <td>387615338975</td>\n",
       "    </tr>\n",
       "    <tr>\n",
       "      <th>11</th>\n",
       "      <td>2018</td>\n",
       "      <td>60대이상</td>\n",
       "      <td>2455835</td>\n",
       "      <td>4797560</td>\n",
       "      <td>224759157547</td>\n",
       "    </tr>\n",
       "  </tbody>\n",
       "</table>\n",
       "</div>"
      ],
      "text/plain": [
       "      연도    연령대     이용자수      이용횟수          이용금액\n",
       "0   2017    20대  4800559   9304114  208175160124\n",
       "1   2017  20대미만   203078    429896    4996657612\n",
       "2   2017    30대  7080363  13499213  437721213544\n",
       "3   2017    40대  6965143  14414930  561248406540\n",
       "4   2017    50대  5158034  10314259  468286978356\n",
       "5   2017  60대이상  2640430   5069478  260136246561\n",
       "6   2018    20대  4262563   8714136  175770246392\n",
       "7   2018  20대미만   216056    475236    5027234286\n",
       "8   2018    30대  5759053  11372820  320955678476\n",
       "9   2018    40대  6081331  12925032  442123304148\n",
       "10  2018    50대  4646069   9557381  387615338975\n",
       "11  2018  60대이상  2455835   4797560  224759157547"
      ]
     },
     "execution_count": 18,
     "metadata": {},
     "output_type": "execute_result"
    }
   ],
   "source": [
    "groupby_ym_age = jeju_card_df.groupby(['연도', '연령대']).sum(numeric_only=True).reset_index()\n",
    "groupby_ym_age"
   ]
  },
  {
   "cell_type": "code",
   "execution_count": 19,
   "id": "4dce7ba6",
   "metadata": {},
   "outputs": [
    {
     "data": {
      "text/plain": [
       "Text(0, 0.5, '이용금액(억)')"
      ]
     },
     "execution_count": 19,
     "metadata": {},
     "output_type": "execute_result"
    },
    {
     "data": {
      "image/png": "[encoded data removed]",
      "text/plain": [
       "<Figure size 1000x500 with 1 Axes>"
      ]
     },
     "metadata": {},
     "output_type": "display_data"
    }
   ],
   "source": [
    "sns.barplot(data=groupby_ym_age, x='연도', y='이용금액', hue='연령대')\n",
    "plt.title('연도별/연령대별 카드 이용 금액')\n",
    "plt.gca().yaxis.set_major_formatter(plt.FuncFormatter(lambda x, _: f'{x/100000000:,.0f}'))\n",
    "plt.ylabel('이용금액(억)')"
   ]
  },
  {
   "cell_type": "code",
   "execution_count": 20,
   "id": "f1d37e42",
   "metadata": {},
   "outputs": [
    {
     "name": "stderr",
     "output_type": "stream",
     "text": [
      "/var/folders/pz/rsgghq1n27s7nj1ccgcxn9xr0000gn/T/ipykernel_17858/1135691136.py:1: SettingWithCopyWarning: \n",
      "A value is trying to be set on a copy of a slice from a DataFrame.\n",
      "Try using .loc[row_indexer,col_indexer] = value instead\n",
      "\n",
      "See the caveats in the documentation: https://pandas.pydata.org/pandas-docs/stable/user_guide/indexing.html#returning-a-view-versus-a-copy\n",
      "  jeju_card_df['연령대'] = pd.Categorical(jeju_card_df['연령대'],\n"
     ]
    }
   ],
   "source": [
    "jeju_card_df['연령대'] = pd.Categorical(jeju_card_df['연령대'],\n",
    "                                      categories=['20대미만', '20대', '30대', '40대', '50대', '60대이상'],\n",
    "                                      ordered=True)"
   ]
  },
  {
   "cell_type": "code",
   "execution_count": 21,
   "id": "33c97c1b",
   "metadata": {},
   "outputs": [
    {
     "data": {
      "text/plain": [
       "Text(0, 0.5, '이용금액(억)')"
      ]
     },
     "execution_count": 21,
     "metadata": {},
     "output_type": "execute_result"
    },
    {
     "data": {
      "image/png": "[encoded data removed]",
      "text/plain": [
       "<Figure size 1000x500 with 1 Axes>"
      ]
     },
     "metadata": {},
     "output_type": "display_data"
    }
   ],
   "source": [
    "jeju_ym_age = jeju_card_df.groupby(['연도', '연령대']).sum(numeric_only=True).reset_index()\n",
    "\n",
    "sns.barplot(data=jeju_ym_age, x='연도', y='이용금액', hue='연령대')\n",
    "plt.title('연도별/연령대별 카드 이용 금액')\n",
    "plt.gca().yaxis.set_major_formatter(plt.FuncFormatter(lambda x, _: f'{x/100000000:,.0f}'))\n",
    "plt.ylabel('이용금액(억)')"
   ]
  },
  {
   "cell_type": "code",
   "execution_count": 22,
   "id": "2caaf482",
   "metadata": {},
   "outputs": [
    {
     "data": {
      "text/html": [
       "<div>\n",
       "<style scoped>\n",
       "    .dataframe tbody tr th:only-of-type {\n",
       "        vertical-align: middle;\n",
       "    }\n",
       "\n",
       "    .dataframe tbody tr th {\n",
       "        vertical-align: top;\n",
       "    }\n",
       "\n",
       "    .dataframe thead th {\n",
       "        text-align: right;\n",
       "    }\n",
       "</style>\n",
       "<table border=\"1\" class=\"dataframe\">\n",
       "  <thead>\n",
       "    <tr style=\"text-align: right;\">\n",
       "      <th></th>\n",
       "      <th>연도</th>\n",
       "      <th>이용자 구분</th>\n",
       "      <th>이용자수</th>\n",
       "      <th>이용횟수</th>\n",
       "      <th>이용금액</th>\n",
       "    </tr>\n",
       "  </thead>\n",
       "  <tbody>\n",
       "    <tr>\n",
       "      <th>0</th>\n",
       "      <td>2017</td>\n",
       "      <td>내국인관광객</td>\n",
       "      <td>12761026</td>\n",
       "      <td>20113119</td>\n",
       "      <td>754434825907</td>\n",
       "    </tr>\n",
       "    <tr>\n",
       "      <th>1</th>\n",
       "      <td>2017</td>\n",
       "      <td>제주도민</td>\n",
       "      <td>14086581</td>\n",
       "      <td>32918771</td>\n",
       "      <td>1186129836830</td>\n",
       "    </tr>\n",
       "    <tr>\n",
       "      <th>2</th>\n",
       "      <td>2018</td>\n",
       "      <td>내국인관광객</td>\n",
       "      <td>11179654</td>\n",
       "      <td>17830178</td>\n",
       "      <td>633357078211</td>\n",
       "    </tr>\n",
       "    <tr>\n",
       "      <th>3</th>\n",
       "      <td>2018</td>\n",
       "      <td>제주도민</td>\n",
       "      <td>12241253</td>\n",
       "      <td>30011987</td>\n",
       "      <td>922893881613</td>\n",
       "    </tr>\n",
       "  </tbody>\n",
       "</table>\n",
       "</div>"
      ],
      "text/plain": [
       "     연도  이용자 구분      이용자수      이용횟수           이용금액\n",
       "0  2017  내국인관광객  12761026  20113119   754434825907\n",
       "1  2017    제주도민  14086581  32918771  1186129836830\n",
       "2  2018  내국인관광객  11179654  17830178   633357078211\n",
       "3  2018    제주도민  12241253  30011987   922893881613"
      ]
     },
     "execution_count": 22,
     "metadata": {},
     "output_type": "execute_result"
    }
   ],
   "source": [
    "groupby_ym_user = jeju_card_df.groupby(['연도', '이용자 구분']).sum(numeric_only=True).reset_index()\n",
    "groupby_ym_user"
   ]
  },
  {
   "cell_type": "code",
   "execution_count": 23,
   "id": "81b6b862",
   "metadata": {},
   "outputs": [
    {
     "data": {
      "text/plain": [
       "Text(0, 0.5, '이용금액(억)')"
      ]
     },
     "execution_count": 23,
     "metadata": {},
     "output_type": "execute_result"
    },
    {
     "data": {
      "image/png": "[encoded data removed]",
      "text/plain": [
       "<Figure size 1000x500 with 1 Axes>"
      ]
     },
     "metadata": {},
     "output_type": "display_data"
    }
   ],
   "source": [
    "sns.barplot(data=groupby_ym_user, x='연도', y='이용금액', hue='이용자 구분')\n",
    "plt.title('연도별/이용자 구분별 카드 이용 금액')\n",
    "plt.gca().yaxis.set_major_formatter(plt.FuncFormatter(lambda x, _: f'{x/100000000:,.0f}'))\n",
    "plt.ylabel('이용금액(억)')"
   ]
  },
  {
   "cell_type": "code",
   "execution_count": 24,
   "id": "79d6850d",
   "metadata": {},
   "outputs": [
    {
     "data": {
      "text/html": [
       "<div>\n",
       "<style scoped>\n",
       "    .dataframe tbody tr th:only-of-type {\n",
       "        vertical-align: middle;\n",
       "    }\n",
       "\n",
       "    .dataframe tbody tr th {\n",
       "        vertical-align: top;\n",
       "    }\n",
       "\n",
       "    .dataframe thead th {\n",
       "        text-align: right;\n",
       "    }\n",
       "</style>\n",
       "<table border=\"1\" class=\"dataframe\">\n",
       "  <thead>\n",
       "    <tr style=\"text-align: right;\">\n",
       "      <th></th>\n",
       "      <th>연도</th>\n",
       "      <th>업종명</th>\n",
       "      <th>이용자수</th>\n",
       "      <th>이용횟수</th>\n",
       "      <th>이용금액</th>\n",
       "    </tr>\n",
       "  </thead>\n",
       "  <tbody>\n",
       "    <tr>\n",
       "      <th>0</th>\n",
       "      <td>2017</td>\n",
       "      <td>교통</td>\n",
       "      <td>2633684</td>\n",
       "      <td>3722079</td>\n",
       "      <td>218699539949</td>\n",
       "    </tr>\n",
       "    <tr>\n",
       "      <th>1</th>\n",
       "      <td>2017</td>\n",
       "      <td>기타</td>\n",
       "      <td>3337625</td>\n",
       "      <td>6181588</td>\n",
       "      <td>369802572061</td>\n",
       "    </tr>\n",
       "    <tr>\n",
       "      <th>2</th>\n",
       "      <td>2017</td>\n",
       "      <td>문화/레져</td>\n",
       "      <td>1166072</td>\n",
       "      <td>1586218</td>\n",
       "      <td>68738522691</td>\n",
       "    </tr>\n",
       "    <tr>\n",
       "      <th>3</th>\n",
       "      <td>2017</td>\n",
       "      <td>소매</td>\n",
       "      <td>2543030</td>\n",
       "      <td>3557900</td>\n",
       "      <td>214293310855</td>\n",
       "    </tr>\n",
       "    <tr>\n",
       "      <th>4</th>\n",
       "      <td>2017</td>\n",
       "      <td>쇼핑</td>\n",
       "      <td>7840104</td>\n",
       "      <td>21230344</td>\n",
       "      <td>472376164231</td>\n",
       "    </tr>\n",
       "    <tr>\n",
       "      <th>5</th>\n",
       "      <td>2017</td>\n",
       "      <td>숙박</td>\n",
       "      <td>492982</td>\n",
       "      <td>658658</td>\n",
       "      <td>66183404375</td>\n",
       "    </tr>\n",
       "    <tr>\n",
       "      <th>6</th>\n",
       "      <td>2017</td>\n",
       "      <td>식음료</td>\n",
       "      <td>8396481</td>\n",
       "      <td>15471969</td>\n",
       "      <td>457736442355</td>\n",
       "    </tr>\n",
       "    <tr>\n",
       "      <th>7</th>\n",
       "      <td>2017</td>\n",
       "      <td>유흥</td>\n",
       "      <td>437629</td>\n",
       "      <td>623134</td>\n",
       "      <td>72734706220</td>\n",
       "    </tr>\n",
       "    <tr>\n",
       "      <th>8</th>\n",
       "      <td>2018</td>\n",
       "      <td>교통</td>\n",
       "      <td>2541600</td>\n",
       "      <td>3495487</td>\n",
       "      <td>216362078283</td>\n",
       "    </tr>\n",
       "    <tr>\n",
       "      <th>9</th>\n",
       "      <td>2018</td>\n",
       "      <td>문화/레져</td>\n",
       "      <td>1194976</td>\n",
       "      <td>1801581</td>\n",
       "      <td>69157584998</td>\n",
       "    </tr>\n",
       "    <tr>\n",
       "      <th>10</th>\n",
       "      <td>2018</td>\n",
       "      <td>소매</td>\n",
       "      <td>2387234</td>\n",
       "      <td>3327299</td>\n",
       "      <td>196834001389</td>\n",
       "    </tr>\n",
       "    <tr>\n",
       "      <th>11</th>\n",
       "      <td>2018</td>\n",
       "      <td>쇼핑</td>\n",
       "      <td>7926165</td>\n",
       "      <td>22152973</td>\n",
       "      <td>474821076984</td>\n",
       "    </tr>\n",
       "    <tr>\n",
       "      <th>12</th>\n",
       "      <td>2018</td>\n",
       "      <td>숙박</td>\n",
       "      <td>512956</td>\n",
       "      <td>681654</td>\n",
       "      <td>65701382988</td>\n",
       "    </tr>\n",
       "    <tr>\n",
       "      <th>13</th>\n",
       "      <td>2018</td>\n",
       "      <td>식음료</td>\n",
       "      <td>8442152</td>\n",
       "      <td>15793177</td>\n",
       "      <td>466136996497</td>\n",
       "    </tr>\n",
       "    <tr>\n",
       "      <th>14</th>\n",
       "      <td>2018</td>\n",
       "      <td>유흥</td>\n",
       "      <td>415824</td>\n",
       "      <td>589994</td>\n",
       "      <td>67237838685</td>\n",
       "    </tr>\n",
       "  </tbody>\n",
       "</table>\n",
       "</div>"
      ],
      "text/plain": [
       "      연도    업종명     이용자수      이용횟수          이용금액\n",
       "0   2017     교통  2633684   3722079  218699539949\n",
       "1   2017     기타  3337625   6181588  369802572061\n",
       "2   2017  문화/레져  1166072   1586218   68738522691\n",
       "3   2017     소매  2543030   3557900  214293310855\n",
       "4   2017     쇼핑  7840104  21230344  472376164231\n",
       "5   2017     숙박   492982    658658   66183404375\n",
       "6   2017    식음료  8396481  15471969  457736442355\n",
       "7   2017     유흥   437629    623134   72734706220\n",
       "8   2018     교통  2541600   3495487  216362078283\n",
       "9   2018  문화/레져  1194976   1801581   69157584998\n",
       "10  2018     소매  2387234   3327299  196834001389\n",
       "11  2018     쇼핑  7926165  22152973  474821076984\n",
       "12  2018     숙박   512956    681654   65701382988\n",
       "13  2018    식음료  8442152  15793177  466136996497\n",
       "14  2018     유흥   415824    589994   67237838685"
      ]
     },
     "execution_count": 24,
     "metadata": {},
     "output_type": "execute_result"
    }
   ],
   "source": [
    "groupby_ym_market = jeju_card_df.groupby(['연도', '업종명']).sum(numeric_only=True).reset_index()\n",
    "groupby_ym_market"
   ]
  },
  {
   "cell_type": "code",
   "execution_count": 25,
   "id": "6c7d740a",
   "metadata": {},
   "outputs": [
    {
     "data": {
      "text/plain": [
       "Text(0, 0.5, '이용금액(억)')"
      ]
     },
     "execution_count": 25,
     "metadata": {},
     "output_type": "execute_result"
    },
    {
     "data": {
      "image/png": "[encoded data removed]",
      "text/plain": [
       "<Figure size 1000x500 with 1 Axes>"
      ]
     },
     "metadata": {},
     "output_type": "display_data"
    }
   ],
   "source": [
    "sns.barplot(data=groupby_ym_market, x='연도', y='이용금액', hue='업종명')\n",
    "plt.title('연도별/업종별 카드 이용 금액')\n",
    "plt.gca().yaxis.set_major_formatter(plt.FuncFormatter(lambda x, _: f'{x/100000000:,.0f}'))\n",
    "plt.ylabel('이용금액(억)')"
   ]
  },
  {
   "cell_type": "code",
   "execution_count": 26,
   "id": "1e6c2606",
   "metadata": {},
   "outputs": [
    {
     "data": {
      "text/html": [
       "<div>\n",
       "<style scoped>\n",
       "    .dataframe tbody tr th:only-of-type {\n",
       "        vertical-align: middle;\n",
       "    }\n",
       "\n",
       "    .dataframe tbody tr th {\n",
       "        vertical-align: top;\n",
       "    }\n",
       "\n",
       "    .dataframe thead th {\n",
       "        text-align: right;\n",
       "    }\n",
       "</style>\n",
       "<table border=\"1\" class=\"dataframe\">\n",
       "  <thead>\n",
       "    <tr style=\"text-align: right;\">\n",
       "      <th></th>\n",
       "      <th>시도명</th>\n",
       "      <th>시군구명</th>\n",
       "      <th>지역구분</th>\n",
       "      <th>업종명</th>\n",
       "      <th>이용자 구분</th>\n",
       "      <th>연령대</th>\n",
       "      <th>성별</th>\n",
       "      <th>연월</th>\n",
       "      <th>이용자수</th>\n",
       "      <th>이용횟수</th>\n",
       "      <th>이용금액</th>\n",
       "      <th>연도</th>\n",
       "    </tr>\n",
       "  </thead>\n",
       "  <tbody>\n",
       "    <tr>\n",
       "      <th>8820</th>\n",
       "      <td>제주도</td>\n",
       "      <td>제주시</td>\n",
       "      <td>읍면</td>\n",
       "      <td>기타</td>\n",
       "      <td>제주도민</td>\n",
       "      <td>60대이상</td>\n",
       "      <td>여</td>\n",
       "      <td>2017-11</td>\n",
       "      <td>515</td>\n",
       "      <td>1087</td>\n",
       "      <td>68991695</td>\n",
       "      <td>2017</td>\n",
       "    </tr>\n",
       "    <tr>\n",
       "      <th>8821</th>\n",
       "      <td>제주도</td>\n",
       "      <td>제주시</td>\n",
       "      <td>읍면</td>\n",
       "      <td>기타</td>\n",
       "      <td>제주도민</td>\n",
       "      <td>60대이상</td>\n",
       "      <td>남</td>\n",
       "      <td>2017-11</td>\n",
       "      <td>1320</td>\n",
       "      <td>2902</td>\n",
       "      <td>248832140</td>\n",
       "      <td>2017</td>\n",
       "    </tr>\n",
       "    <tr>\n",
       "      <th>8822</th>\n",
       "      <td>제주도</td>\n",
       "      <td>제주시</td>\n",
       "      <td>읍면</td>\n",
       "      <td>기타</td>\n",
       "      <td>제주도민</td>\n",
       "      <td>50대</td>\n",
       "      <td>여</td>\n",
       "      <td>2017-11</td>\n",
       "      <td>825</td>\n",
       "      <td>1586</td>\n",
       "      <td>105991421</td>\n",
       "      <td>2017</td>\n",
       "    </tr>\n",
       "    <tr>\n",
       "      <th>8823</th>\n",
       "      <td>제주도</td>\n",
       "      <td>제주시</td>\n",
       "      <td>읍면</td>\n",
       "      <td>기타</td>\n",
       "      <td>제주도민</td>\n",
       "      <td>50대</td>\n",
       "      <td>남</td>\n",
       "      <td>2017-11</td>\n",
       "      <td>1623</td>\n",
       "      <td>3314</td>\n",
       "      <td>344444658</td>\n",
       "      <td>2017</td>\n",
       "    </tr>\n",
       "    <tr>\n",
       "      <th>8824</th>\n",
       "      <td>제주도</td>\n",
       "      <td>제주시</td>\n",
       "      <td>읍면</td>\n",
       "      <td>기타</td>\n",
       "      <td>제주도민</td>\n",
       "      <td>40대</td>\n",
       "      <td>여</td>\n",
       "      <td>2017-11</td>\n",
       "      <td>1064</td>\n",
       "      <td>1955</td>\n",
       "      <td>197205323</td>\n",
       "      <td>2017</td>\n",
       "    </tr>\n",
       "    <tr>\n",
       "      <th>...</th>\n",
       "      <td>...</td>\n",
       "      <td>...</td>\n",
       "      <td>...</td>\n",
       "      <td>...</td>\n",
       "      <td>...</td>\n",
       "      <td>...</td>\n",
       "      <td>...</td>\n",
       "      <td>...</td>\n",
       "      <td>...</td>\n",
       "      <td>...</td>\n",
       "      <td>...</td>\n",
       "      <td>...</td>\n",
       "    </tr>\n",
       "    <tr>\n",
       "      <th>16682</th>\n",
       "      <td>제주도</td>\n",
       "      <td>서귀포시</td>\n",
       "      <td>도심</td>\n",
       "      <td>기타</td>\n",
       "      <td>내국인관광객</td>\n",
       "      <td>30대</td>\n",
       "      <td>여</td>\n",
       "      <td>2017-01</td>\n",
       "      <td>1126</td>\n",
       "      <td>1661</td>\n",
       "      <td>61983110</td>\n",
       "      <td>2017</td>\n",
       "    </tr>\n",
       "    <tr>\n",
       "      <th>16683</th>\n",
       "      <td>제주도</td>\n",
       "      <td>서귀포시</td>\n",
       "      <td>도심</td>\n",
       "      <td>기타</td>\n",
       "      <td>내국인관광객</td>\n",
       "      <td>30대</td>\n",
       "      <td>남</td>\n",
       "      <td>2017-01</td>\n",
       "      <td>1289</td>\n",
       "      <td>1902</td>\n",
       "      <td>54641270</td>\n",
       "      <td>2017</td>\n",
       "    </tr>\n",
       "    <tr>\n",
       "      <th>16684</th>\n",
       "      <td>제주도</td>\n",
       "      <td>서귀포시</td>\n",
       "      <td>도심</td>\n",
       "      <td>기타</td>\n",
       "      <td>내국인관광객</td>\n",
       "      <td>20대</td>\n",
       "      <td>여</td>\n",
       "      <td>2017-01</td>\n",
       "      <td>795</td>\n",
       "      <td>1060</td>\n",
       "      <td>29265651</td>\n",
       "      <td>2017</td>\n",
       "    </tr>\n",
       "    <tr>\n",
       "      <th>16685</th>\n",
       "      <td>제주도</td>\n",
       "      <td>서귀포시</td>\n",
       "      <td>도심</td>\n",
       "      <td>기타</td>\n",
       "      <td>내국인관광객</td>\n",
       "      <td>20대</td>\n",
       "      <td>남</td>\n",
       "      <td>2017-01</td>\n",
       "      <td>719</td>\n",
       "      <td>987</td>\n",
       "      <td>19987700</td>\n",
       "      <td>2017</td>\n",
       "    </tr>\n",
       "    <tr>\n",
       "      <th>16686</th>\n",
       "      <td>제주도</td>\n",
       "      <td>서귀포시</td>\n",
       "      <td>도심</td>\n",
       "      <td>기타</td>\n",
       "      <td>내국인관광객</td>\n",
       "      <td>20대미만</td>\n",
       "      <td>남</td>\n",
       "      <td>2017-01</td>\n",
       "      <td>47</td>\n",
       "      <td>85</td>\n",
       "      <td>943800</td>\n",
       "      <td>2017</td>\n",
       "    </tr>\n",
       "  </tbody>\n",
       "</table>\n",
       "<p>1034 rows × 12 columns</p>\n",
       "</div>"
      ],
      "text/plain": [
       "       시도명  시군구명 지역구분 업종명  이용자 구분    연령대 성별       연월  이용자수  이용횟수       이용금액  \\\n",
       "8820   제주도   제주시   읍면  기타    제주도민  60대이상  여  2017-11   515  1087   68991695   \n",
       "8821   제주도   제주시   읍면  기타    제주도민  60대이상  남  2017-11  1320  2902  248832140   \n",
       "8822   제주도   제주시   읍면  기타    제주도민    50대  여  2017-11   825  1586  105991421   \n",
       "8823   제주도   제주시   읍면  기타    제주도민    50대  남  2017-11  1623  3314  344444658   \n",
       "8824   제주도   제주시   읍면  기타    제주도민    40대  여  2017-11  1064  1955  197205323   \n",
       "...    ...   ...  ...  ..     ...    ... ..      ...   ...   ...        ...   \n",
       "16682  제주도  서귀포시   도심  기타  내국인관광객    30대  여  2017-01  1126  1661   61983110   \n",
       "16683  제주도  서귀포시   도심  기타  내국인관광객    30대  남  2017-01  1289  1902   54641270   \n",
       "16684  제주도  서귀포시   도심  기타  내국인관광객    20대  여  2017-01   795  1060   29265651   \n",
       "16685  제주도  서귀포시   도심  기타  내국인관광객    20대  남  2017-01   719   987   19987700   \n",
       "16686  제주도  서귀포시   도심  기타  내국인관광객  20대미만  남  2017-01    47    85     943800   \n",
       "\n",
       "         연도  \n",
       "8820   2017  \n",
       "8821   2017  \n",
       "8822   2017  \n",
       "8823   2017  \n",
       "8824   2017  \n",
       "...     ...  \n",
       "16682  2017  \n",
       "16683  2017  \n",
       "16684  2017  \n",
       "16685  2017  \n",
       "16686  2017  \n",
       "\n",
       "[1034 rows x 12 columns]"
      ]
     },
     "execution_count": 26,
     "metadata": {},
     "output_type": "execute_result"
    }
   ],
   "source": [
    "jeju_card_df[jeju_card_df['업종명'] == '기타']"
   ]
  },
  {
   "cell_type": "code",
   "execution_count": 27,
   "id": "e9427231",
   "metadata": {},
   "outputs": [
    {
     "data": {
      "text/plain": [
       "array(['2017-11', '2017-10', '2017-09', '2017-08', '2017-07', '2017-06',\n",
       "       '2017-05', '2017-04', '2017-03', '2017-02', '2017-01'],\n",
       "      dtype=object)"
      ]
     },
     "execution_count": 27,
     "metadata": {},
     "output_type": "execute_result"
    }
   ],
   "source": [
    "jeju_card_df[jeju_card_df['업종명'] == '기타']['연월'].unique()"
   ]
  },
  {
   "cell_type": "markdown",
   "id": "a8566d9b",
   "metadata": {},
   "source": [
    "## 업종명 컬럼 전처리"
   ]
  },
  {
   "cell_type": "code",
   "execution_count": 28,
   "id": "72cbddcd",
   "metadata": {},
   "outputs": [
    {
     "data": {
      "text/plain": [
       "array(['유흥', '식음료', '숙박', '쇼핑', '소매', '문화/레져', '교통'], dtype=object)"
      ]
     },
     "execution_count": 28,
     "metadata": {},
     "output_type": "execute_result"
    }
   ],
   "source": [
    "jeju_card_df = jeju_card_df[jeju_card_df['업종명'] != '기타']\n",
    "jeju_card_df['업종명'].unique()"
   ]
  },
  {
   "cell_type": "markdown",
   "id": "e865eabb",
   "metadata": {},
   "source": [
    "### 연도/연령대별, 연도/이용자 구분별, 연도/업종별 그래프 그리기"
   ]
  },
  {
   "cell_type": "code",
   "execution_count": 29,
   "id": "1f2ccfc9",
   "metadata": {},
   "outputs": [
    {
     "data": {
      "text/plain": [
       "Text(0, 0.5, '이용금액(억)')"
      ]
     },
     "execution_count": 29,
     "metadata": {},
     "output_type": "execute_result"
    },
    {
     "data": {
      "image/png": "[encoded data removed]",
      "text/plain": [
       "<Figure size 1000x500 with 1 Axes>"
      ]
     },
     "metadata": {},
     "output_type": "display_data"
    }
   ],
   "source": [
    "groupby_ym_age = jeju_card_df.groupby(['연도', '연령대']).sum(numeric_only=True).reset_index()\n",
    "\n",
    "sns.barplot(data=groupby_ym_age, x='연도', y='이용금액', hue='연령대')\n",
    "plt.title('연도별/연령대별 카드 이용 금액')\n",
    "plt.gca().yaxis.set_major_formatter(plt.FuncFormatter(lambda x, _: f'{x/100000000:,.0f}'))\n",
    "plt.ylabel('이용금액(억)')"
   ]
  },
  {
   "cell_type": "code",
   "execution_count": 30,
   "id": "aef50500",
   "metadata": {},
   "outputs": [
    {
     "data": {
      "text/plain": [
       "Text(0.5, 1.0, '연도별/이용자 구분별 카드 이용 금액')"
      ]
     },
     "execution_count": 30,
     "metadata": {},
     "output_type": "execute_result"
    },
    {
     "data": {
      "image/png": "[encoded data removed]",
      "text/plain": [
       "<Figure size 1000x500 with 1 Axes>"
      ]
     },
     "metadata": {},
     "output_type": "display_data"
    }
   ],
   "source": [
    "groupby_ym_user = jeju_card_df.groupby(['연도', '이용자 구분']).sum(numeric_only=True).reset_index()\n",
    "\n",
    "sns.barplot(data=groupby_ym_user, x='연도', y='이용금액', hue='이용자 구분')\n",
    "plt.title('연도별/이용자 구분별 카드 이용 금액')"
   ]
  },
  {
   "cell_type": "markdown",
   "id": "1ced9e7a",
   "metadata": {},
   "source": [
    "### 2017년에 비해 2018년에 특별히 이용 금액이 줄어든 업종이 있는지 확인"
   ]
  },
  {
   "cell_type": "code",
   "execution_count": 31,
   "id": "1059b820",
   "metadata": {},
   "outputs": [
    {
     "data": {
      "text/html": [
       "<div>\n",
       "<style scoped>\n",
       "    .dataframe tbody tr th:only-of-type {\n",
       "        vertical-align: middle;\n",
       "    }\n",
       "\n",
       "    .dataframe tbody tr th {\n",
       "        vertical-align: top;\n",
       "    }\n",
       "\n",
       "    .dataframe thead th {\n",
       "        text-align: right;\n",
       "    }\n",
       "</style>\n",
       "<table border=\"1\" class=\"dataframe\">\n",
       "  <thead>\n",
       "    <tr style=\"text-align: right;\">\n",
       "      <th></th>\n",
       "      <th>연도</th>\n",
       "      <th>업종명</th>\n",
       "      <th>이용자수</th>\n",
       "      <th>이용횟수</th>\n",
       "      <th>이용금액</th>\n",
       "    </tr>\n",
       "  </thead>\n",
       "  <tbody>\n",
       "    <tr>\n",
       "      <th>0</th>\n",
       "      <td>2017</td>\n",
       "      <td>교통</td>\n",
       "      <td>2633684</td>\n",
       "      <td>3722079</td>\n",
       "      <td>218699539949</td>\n",
       "    </tr>\n",
       "    <tr>\n",
       "      <th>1</th>\n",
       "      <td>2017</td>\n",
       "      <td>문화/레져</td>\n",
       "      <td>1166072</td>\n",
       "      <td>1586218</td>\n",
       "      <td>68738522691</td>\n",
       "    </tr>\n",
       "    <tr>\n",
       "      <th>2</th>\n",
       "      <td>2017</td>\n",
       "      <td>소매</td>\n",
       "      <td>2543030</td>\n",
       "      <td>3557900</td>\n",
       "      <td>214293310855</td>\n",
       "    </tr>\n",
       "    <tr>\n",
       "      <th>3</th>\n",
       "      <td>2017</td>\n",
       "      <td>쇼핑</td>\n",
       "      <td>7840104</td>\n",
       "      <td>21230344</td>\n",
       "      <td>472376164231</td>\n",
       "    </tr>\n",
       "    <tr>\n",
       "      <th>4</th>\n",
       "      <td>2017</td>\n",
       "      <td>숙박</td>\n",
       "      <td>492982</td>\n",
       "      <td>658658</td>\n",
       "      <td>66183404375</td>\n",
       "    </tr>\n",
       "    <tr>\n",
       "      <th>5</th>\n",
       "      <td>2017</td>\n",
       "      <td>식음료</td>\n",
       "      <td>8396481</td>\n",
       "      <td>15471969</td>\n",
       "      <td>457736442355</td>\n",
       "    </tr>\n",
       "    <tr>\n",
       "      <th>6</th>\n",
       "      <td>2017</td>\n",
       "      <td>유흥</td>\n",
       "      <td>437629</td>\n",
       "      <td>623134</td>\n",
       "      <td>72734706220</td>\n",
       "    </tr>\n",
       "    <tr>\n",
       "      <th>7</th>\n",
       "      <td>2018</td>\n",
       "      <td>교통</td>\n",
       "      <td>2541600</td>\n",
       "      <td>3495487</td>\n",
       "      <td>216362078283</td>\n",
       "    </tr>\n",
       "    <tr>\n",
       "      <th>8</th>\n",
       "      <td>2018</td>\n",
       "      <td>문화/레져</td>\n",
       "      <td>1194976</td>\n",
       "      <td>1801581</td>\n",
       "      <td>69157584998</td>\n",
       "    </tr>\n",
       "    <tr>\n",
       "      <th>9</th>\n",
       "      <td>2018</td>\n",
       "      <td>소매</td>\n",
       "      <td>2387234</td>\n",
       "      <td>3327299</td>\n",
       "      <td>196834001389</td>\n",
       "    </tr>\n",
       "    <tr>\n",
       "      <th>10</th>\n",
       "      <td>2018</td>\n",
       "      <td>쇼핑</td>\n",
       "      <td>7926165</td>\n",
       "      <td>22152973</td>\n",
       "      <td>474821076984</td>\n",
       "    </tr>\n",
       "    <tr>\n",
       "      <th>11</th>\n",
       "      <td>2018</td>\n",
       "      <td>숙박</td>\n",
       "      <td>512956</td>\n",
       "      <td>681654</td>\n",
       "      <td>65701382988</td>\n",
       "    </tr>\n",
       "    <tr>\n",
       "      <th>12</th>\n",
       "      <td>2018</td>\n",
       "      <td>식음료</td>\n",
       "      <td>8442152</td>\n",
       "      <td>15793177</td>\n",
       "      <td>466136996497</td>\n",
       "    </tr>\n",
       "    <tr>\n",
       "      <th>13</th>\n",
       "      <td>2018</td>\n",
       "      <td>유흥</td>\n",
       "      <td>415824</td>\n",
       "      <td>589994</td>\n",
       "      <td>67237838685</td>\n",
       "    </tr>\n",
       "  </tbody>\n",
       "</table>\n",
       "</div>"
      ],
      "text/plain": [
       "      연도    업종명     이용자수      이용횟수          이용금액\n",
       "0   2017     교통  2633684   3722079  218699539949\n",
       "1   2017  문화/레져  1166072   1586218   68738522691\n",
       "2   2017     소매  2543030   3557900  214293310855\n",
       "3   2017     쇼핑  7840104  21230344  472376164231\n",
       "4   2017     숙박   492982    658658   66183404375\n",
       "5   2017    식음료  8396481  15471969  457736442355\n",
       "6   2017     유흥   437629    623134   72734706220\n",
       "7   2018     교통  2541600   3495487  216362078283\n",
       "8   2018  문화/레져  1194976   1801581   69157584998\n",
       "9   2018     소매  2387234   3327299  196834001389\n",
       "10  2018     쇼핑  7926165  22152973  474821076984\n",
       "11  2018     숙박   512956    681654   65701382988\n",
       "12  2018    식음료  8442152  15793177  466136996497\n",
       "13  2018     유흥   415824    589994   67237838685"
      ]
     },
     "execution_count": 31,
     "metadata": {},
     "output_type": "execute_result"
    }
   ],
   "source": [
    "groupby_ym_market = jeju_card_df.groupby(['연도', '업종명']).sum(numeric_only=True).reset_index()\n",
    "groupby_ym_market"
   ]
  },
  {
   "cell_type": "code",
   "execution_count": 32,
   "id": "464af1d7",
   "metadata": {},
   "outputs": [
    {
     "data": {
      "text/plain": [
       "Text(0, 0.5, '이용금액(억)')"
      ]
     },
     "execution_count": 32,
     "metadata": {},
     "output_type": "execute_result"
    },
    {
     "data": {
      "image/png": "[encoded data removed]",
      "text/plain": [
       "<Figure size 1000x500 with 1 Axes>"
      ]
     },
     "metadata": {},
     "output_type": "display_data"
    }
   ],
   "source": [
    "sns.barplot(data=groupby_ym_market, x='연도', y='이용금액', hue='업종명')\n",
    "plt.title('연도별/업종별 카드 이용 금액')\n",
    "plt.gca().yaxis.set_major_formatter(plt.FuncFormatter(lambda x, _: f'{x/100000000:,.0f}'))\n",
    "plt.ylabel('이용금액(억)')"
   ]
  },
  {
   "cell_type": "markdown",
   "id": "bb66b746",
   "metadata": {},
   "source": [
    "## 연령대별 이용 금액 시각화"
   ]
  },
  {
   "cell_type": "code",
   "execution_count": 33,
   "id": "143217ef",
   "metadata": {},
   "outputs": [
    {
     "data": {
      "text/html": [
       "<div>\n",
       "<style scoped>\n",
       "    .dataframe tbody tr th:only-of-type {\n",
       "        vertical-align: middle;\n",
       "    }\n",
       "\n",
       "    .dataframe tbody tr th {\n",
       "        vertical-align: top;\n",
       "    }\n",
       "\n",
       "    .dataframe thead th {\n",
       "        text-align: right;\n",
       "    }\n",
       "</style>\n",
       "<table border=\"1\" class=\"dataframe\">\n",
       "  <thead>\n",
       "    <tr style=\"text-align: right;\">\n",
       "      <th></th>\n",
       "      <th>연령대</th>\n",
       "      <th>이용자수</th>\n",
       "      <th>이용횟수</th>\n",
       "      <th>이용금액</th>\n",
       "    </tr>\n",
       "  </thead>\n",
       "  <tbody>\n",
       "    <tr>\n",
       "      <th>0</th>\n",
       "      <td>20대미만</td>\n",
       "      <td>401769</td>\n",
       "      <td>879205</td>\n",
       "      <td>9478228519</td>\n",
       "    </tr>\n",
       "    <tr>\n",
       "      <th>1</th>\n",
       "      <td>20대</td>\n",
       "      <td>8609569</td>\n",
       "      <td>17330083</td>\n",
       "      <td>352340324557</td>\n",
       "    </tr>\n",
       "    <tr>\n",
       "      <th>2</th>\n",
       "      <td>30대</td>\n",
       "      <td>11943645</td>\n",
       "      <td>23231348</td>\n",
       "      <td>665648456005</td>\n",
       "    </tr>\n",
       "    <tr>\n",
       "      <th>3</th>\n",
       "      <td>40대</td>\n",
       "      <td>12151108</td>\n",
       "      <td>25588896</td>\n",
       "      <td>894568725640</td>\n",
       "    </tr>\n",
       "    <tr>\n",
       "      <th>4</th>\n",
       "      <td>50대</td>\n",
       "      <td>9141502</td>\n",
       "      <td>18600897</td>\n",
       "      <td>771684016455</td>\n",
       "    </tr>\n",
       "    <tr>\n",
       "      <th>5</th>\n",
       "      <td>60대이상</td>\n",
       "      <td>4683296</td>\n",
       "      <td>9062038</td>\n",
       "      <td>433293299324</td>\n",
       "    </tr>\n",
       "  </tbody>\n",
       "</table>\n",
       "</div>"
      ],
      "text/plain": [
       "     연령대      이용자수      이용횟수          이용금액\n",
       "0  20대미만    401769    879205    9478228519\n",
       "1    20대   8609569  17330083  352340324557\n",
       "2    30대  11943645  23231348  665648456005\n",
       "3    40대  12151108  25588896  894568725640\n",
       "4    50대   9141502  18600897  771684016455\n",
       "5  60대이상   4683296   9062038  433293299324"
      ]
     },
     "execution_count": 33,
     "metadata": {},
     "output_type": "execute_result"
    }
   ],
   "source": [
    "groupby_age = jeju_card_df.groupby(['연령대']).sum(numeric_only=True).reset_index()\n",
    "groupby_age"
   ]
  },
  {
   "cell_type": "code",
   "execution_count": 34,
   "id": "e9a79f26",
   "metadata": {},
   "outputs": [
    {
     "data": {
      "text/plain": [
       "<matplotlib.legend.Legend at 0x16d6adc10>"
      ]
     },
     "execution_count": 34,
     "metadata": {},
     "output_type": "execute_result"
    },
    {
     "data": {
      "image/png": "[encoded data removed]",
      "text/plain": [
       "<Figure size 1000x500 with 1 Axes>"
      ]
     },
     "metadata": {},
     "output_type": "display_data"
    }
   ],
   "source": [
    "groupby_age.plot(kind='pie', y='이용자수', labels=groupby_age['연령대'], autopct='%.1f%%')\n",
    "plt.title = ('연령대별 카드 이용자 수 비중')\n",
    "plt.legend(loc='upper left', bbox_to_anchor=(1, 1))"
   ]
  },
  {
   "cell_type": "code",
   "execution_count": 35,
   "id": "bed6dbab",
   "metadata": {},
   "outputs": [
    {
     "ename": "TypeError",
     "evalue": "'str' object is not callable",
     "output_type": "error",
     "traceback": [
      "\u001b[0;31m---------------------------------------------------------------------------\u001b[0m",
      "\u001b[0;31mTypeError\u001b[0m                                 Traceback (most recent call last)",
      "Cell \u001b[0;32mIn[35], line 2\u001b[0m\n\u001b[1;32m      1\u001b[0m groupby_age\u001b[38;5;241m.\u001b[39mplot(kind\u001b[38;5;241m=\u001b[39m\u001b[38;5;124m'\u001b[39m\u001b[38;5;124mpie\u001b[39m\u001b[38;5;124m'\u001b[39m, y\u001b[38;5;241m=\u001b[39m\u001b[38;5;124m'\u001b[39m\u001b[38;5;124m이용금액\u001b[39m\u001b[38;5;124m'\u001b[39m, labels\u001b[38;5;241m=\u001b[39mgroupby_age[\u001b[38;5;124m'\u001b[39m\u001b[38;5;124m연령대\u001b[39m\u001b[38;5;124m'\u001b[39m], autopct\u001b[38;5;241m=\u001b[39m\u001b[38;5;124m'\u001b[39m\u001b[38;5;132;01m%.1f\u001b[39;00m\u001b[38;5;132;01m%%\u001b[39;00m\u001b[38;5;124m'\u001b[39m)\n\u001b[0;32m----> 2\u001b[0m plt\u001b[38;5;241m.\u001b[39mtitle(\u001b[38;5;124m'\u001b[39m\u001b[38;5;124m연령대별 카드 이용 금액 비중\u001b[39m\u001b[38;5;124m'\u001b[39m)\n\u001b[1;32m      3\u001b[0m plt\u001b[38;5;241m.\u001b[39mlegend(loc\u001b[38;5;241m=\u001b[39m\u001b[38;5;124m'\u001b[39m\u001b[38;5;124mupper left\u001b[39m\u001b[38;5;124m'\u001b[39m, bbox_to_anchor\u001b[38;5;241m=\u001b[39m(\u001b[38;5;241m1\u001b[39m, \u001b[38;5;241m1\u001b[39m))\n",
      "\u001b[0;31mTypeError\u001b[0m: 'str' object is not callable"
     ]
    },
    {
     "data": {
      "image/png": "[encoded data removed]",
      "text/plain": [
       "<Figure size 1000x500 with 1 Axes>"
      ]
     },
     "metadata": {},
     "output_type": "display_data"
    }
   ],
   "source": [
    "groupby_age.plot(kind='pie', y='이용금액', labels=groupby_age['연령대'], autopct='%.1f%%')\n",
    "plt.title('연령대별 카드 이용 금액 비중')\n",
    "plt.legend(loc='upper left', bbox_to_anchor=(1, 1))"
   ]
  },
  {
   "cell_type": "code",
   "execution_count": 36,
   "id": "969ebd96",
   "metadata": {},
   "outputs": [
    {
     "data": {
      "text/html": [
       "<div>\n",
       "<style scoped>\n",
       "    .dataframe tbody tr th:only-of-type {\n",
       "        vertical-align: middle;\n",
       "    }\n",
       "\n",
       "    .dataframe tbody tr th {\n",
       "        vertical-align: top;\n",
       "    }\n",
       "\n",
       "    .dataframe thead th {\n",
       "        text-align: right;\n",
       "    }\n",
       "</style>\n",
       "<table border=\"1\" class=\"dataframe\">\n",
       "  <thead>\n",
       "    <tr style=\"text-align: right;\">\n",
       "      <th></th>\n",
       "      <th>연령대</th>\n",
       "      <th>이용자수</th>\n",
       "      <th>이용횟수</th>\n",
       "      <th>이용금액</th>\n",
       "      <th>인당이용금액</th>\n",
       "    </tr>\n",
       "  </thead>\n",
       "  <tbody>\n",
       "    <tr>\n",
       "      <th>0</th>\n",
       "      <td>20대미만</td>\n",
       "      <td>401769</td>\n",
       "      <td>879205</td>\n",
       "      <td>9478228519</td>\n",
       "      <td>23591.239043</td>\n",
       "    </tr>\n",
       "    <tr>\n",
       "      <th>1</th>\n",
       "      <td>20대</td>\n",
       "      <td>8609569</td>\n",
       "      <td>17330083</td>\n",
       "      <td>352340324557</td>\n",
       "      <td>40924.269793</td>\n",
       "    </tr>\n",
       "    <tr>\n",
       "      <th>2</th>\n",
       "      <td>30대</td>\n",
       "      <td>11943645</td>\n",
       "      <td>23231348</td>\n",
       "      <td>665648456005</td>\n",
       "      <td>55732.438130</td>\n",
       "    </tr>\n",
       "    <tr>\n",
       "      <th>3</th>\n",
       "      <td>40대</td>\n",
       "      <td>12151108</td>\n",
       "      <td>25588896</td>\n",
       "      <td>894568725640</td>\n",
       "      <td>73620.341918</td>\n",
       "    </tr>\n",
       "    <tr>\n",
       "      <th>4</th>\n",
       "      <td>50대</td>\n",
       "      <td>9141502</td>\n",
       "      <td>18600897</td>\n",
       "      <td>771684016455</td>\n",
       "      <td>84415.451252</td>\n",
       "    </tr>\n",
       "    <tr>\n",
       "      <th>5</th>\n",
       "      <td>60대이상</td>\n",
       "      <td>4683296</td>\n",
       "      <td>9062038</td>\n",
       "      <td>433293299324</td>\n",
       "      <td>92518.879721</td>\n",
       "    </tr>\n",
       "  </tbody>\n",
       "</table>\n",
       "</div>"
      ],
      "text/plain": [
       "     연령대      이용자수      이용횟수          이용금액        인당이용금액\n",
       "0  20대미만    401769    879205    9478228519  23591.239043\n",
       "1    20대   8609569  17330083  352340324557  40924.269793\n",
       "2    30대  11943645  23231348  665648456005  55732.438130\n",
       "3    40대  12151108  25588896  894568725640  73620.341918\n",
       "4    50대   9141502  18600897  771684016455  84415.451252\n",
       "5  60대이상   4683296   9062038  433293299324  92518.879721"
      ]
     },
     "execution_count": 36,
     "metadata": {},
     "output_type": "execute_result"
    }
   ],
   "source": [
    "groupby_age['인당이용금액'] = groupby_age['이용금액']/groupby_age['이용자수']\n",
    "groupby_age"
   ]
  },
  {
   "cell_type": "code",
   "execution_count": 37,
   "id": "afb11915",
   "metadata": {},
   "outputs": [
    {
     "ename": "TypeError",
     "evalue": "'str' object is not callable",
     "output_type": "error",
     "traceback": [
      "\u001b[0;31m---------------------------------------------------------------------------\u001b[0m",
      "\u001b[0;31mTypeError\u001b[0m                                 Traceback (most recent call last)",
      "Cell \u001b[0;32mIn[37], line 3\u001b[0m\n\u001b[1;32m      1\u001b[0m plt\u001b[38;5;241m.\u001b[39mgca()\u001b[38;5;241m.\u001b[39myaxis\u001b[38;5;241m.\u001b[39mset_major_formatter(plt\u001b[38;5;241m.\u001b[39mFuncFormatter(\u001b[38;5;28;01mlambda\u001b[39;00m x, _: \u001b[38;5;124mf\u001b[39m\u001b[38;5;124m'\u001b[39m\u001b[38;5;132;01m{\u001b[39;00mx\u001b[38;5;132;01m:\u001b[39;00m\u001b[38;5;124m,.0f\u001b[39m\u001b[38;5;132;01m}\u001b[39;00m\u001b[38;5;124m'\u001b[39m))\n\u001b[1;32m      2\u001b[0m sns\u001b[38;5;241m.\u001b[39mbarplot(data\u001b[38;5;241m=\u001b[39mgroupby_age, x\u001b[38;5;241m=\u001b[39m\u001b[38;5;124m'\u001b[39m\u001b[38;5;124m연령대\u001b[39m\u001b[38;5;124m'\u001b[39m, y\u001b[38;5;241m=\u001b[39m\u001b[38;5;124m'\u001b[39m\u001b[38;5;124m인당이용금액\u001b[39m\u001b[38;5;124m'\u001b[39m)\n\u001b[0;32m----> 3\u001b[0m plt\u001b[38;5;241m.\u001b[39mtitle(\u001b[38;5;124m'\u001b[39m\u001b[38;5;124m연령대별 인당 카드 이용 금액\u001b[39m\u001b[38;5;124m'\u001b[39m)\n",
      "\u001b[0;31mTypeError\u001b[0m: 'str' object is not callable"
     ]
    },
    {
     "data": {
      "image/png": "[encoded data removed]",
      "text/plain": [
       "<Figure size 1000x500 with 1 Axes>"
      ]
     },
     "metadata": {},
     "output_type": "display_data"
    }
   ],
   "source": [
    "plt.gca().yaxis.set_major_formatter(plt.FuncFormatter(lambda x, _: f'{x:,.0f}'))\n",
    "sns.barplot(data=groupby_age, x='연령대', y='인당이용금액')\n",
    "plt.title('연령대별 인당 카드 이용 금액')"
   ]
  },
  {
   "cell_type": "markdown",
   "id": "5b99dbe2",
   "metadata": {},
   "source": [
    "## 연령대별/업종별 이용 금액 시각화"
   ]
  },
  {
   "cell_type": "code",
   "execution_count": 38,
   "id": "88380498",
   "metadata": {},
   "outputs": [
    {
     "data": {
      "text/html": [
       "<div>\n",
       "<style scoped>\n",
       "    .dataframe tbody tr th:only-of-type {\n",
       "        vertical-align: middle;\n",
       "    }\n",
       "\n",
       "    .dataframe tbody tr th {\n",
       "        vertical-align: top;\n",
       "    }\n",
       "\n",
       "    .dataframe thead th {\n",
       "        text-align: right;\n",
       "    }\n",
       "</style>\n",
       "<table border=\"1\" class=\"dataframe\">\n",
       "  <thead>\n",
       "    <tr style=\"text-align: right;\">\n",
       "      <th></th>\n",
       "      <th>연령대</th>\n",
       "      <th>업종명</th>\n",
       "      <th>이용자수</th>\n",
       "      <th>이용횟수</th>\n",
       "      <th>이용금액</th>\n",
       "    </tr>\n",
       "  </thead>\n",
       "  <tbody>\n",
       "    <tr>\n",
       "      <th>0</th>\n",
       "      <td>20대미만</td>\n",
       "      <td>교통</td>\n",
       "      <td>3740</td>\n",
       "      <td>4705</td>\n",
       "      <td>285316774</td>\n",
       "    </tr>\n",
       "    <tr>\n",
       "      <th>1</th>\n",
       "      <td>20대미만</td>\n",
       "      <td>문화/레져</td>\n",
       "      <td>40499</td>\n",
       "      <td>80073</td>\n",
       "      <td>805245645</td>\n",
       "    </tr>\n",
       "    <tr>\n",
       "      <th>2</th>\n",
       "      <td>20대미만</td>\n",
       "      <td>소매</td>\n",
       "      <td>56257</td>\n",
       "      <td>77825</td>\n",
       "      <td>1638514065</td>\n",
       "    </tr>\n",
       "    <tr>\n",
       "      <th>3</th>\n",
       "      <td>20대미만</td>\n",
       "      <td>쇼핑</td>\n",
       "      <td>164635</td>\n",
       "      <td>453747</td>\n",
       "      <td>3008788954</td>\n",
       "    </tr>\n",
       "    <tr>\n",
       "      <th>4</th>\n",
       "      <td>20대미만</td>\n",
       "      <td>숙박</td>\n",
       "      <td>3681</td>\n",
       "      <td>4953</td>\n",
       "      <td>114390996</td>\n",
       "    </tr>\n",
       "  </tbody>\n",
       "</table>\n",
       "</div>"
      ],
      "text/plain": [
       "     연령대    업종명    이용자수    이용횟수        이용금액\n",
       "0  20대미만     교통    3740    4705   285316774\n",
       "1  20대미만  문화/레져   40499   80073   805245645\n",
       "2  20대미만     소매   56257   77825  1638514065\n",
       "3  20대미만     쇼핑  164635  453747  3008788954\n",
       "4  20대미만     숙박    3681    4953   114390996"
      ]
     },
     "execution_count": 38,
     "metadata": {},
     "output_type": "execute_result"
    }
   ],
   "source": [
    "groupby_age_market = jeju_card_df.groupby(['연령대', '업종명']).sum(numeric_only=True).reset_index()\n",
    "groupby_age_market.head()"
   ]
  },
  {
   "cell_type": "code",
   "execution_count": 39,
   "id": "af3f0fe4",
   "metadata": {},
   "outputs": [
    {
     "ename": "TypeError",
     "evalue": "'str' object is not callable",
     "output_type": "error",
     "traceback": [
      "\u001b[0;31m---------------------------------------------------------------------------\u001b[0m",
      "\u001b[0;31mTypeError\u001b[0m                                 Traceback (most recent call last)",
      "Cell \u001b[0;32mIn[39], line 2\u001b[0m\n\u001b[1;32m      1\u001b[0m sns\u001b[38;5;241m.\u001b[39mbarplot(data\u001b[38;5;241m=\u001b[39mgroupby_age_market, x\u001b[38;5;241m=\u001b[39m\u001b[38;5;124m'\u001b[39m\u001b[38;5;124m연령대\u001b[39m\u001b[38;5;124m'\u001b[39m, y\u001b[38;5;241m=\u001b[39m\u001b[38;5;124m'\u001b[39m\u001b[38;5;124m이용금액\u001b[39m\u001b[38;5;124m'\u001b[39m, hue\u001b[38;5;241m=\u001b[39m\u001b[38;5;124m'\u001b[39m\u001b[38;5;124m업종명\u001b[39m\u001b[38;5;124m'\u001b[39m)\n\u001b[0;32m----> 2\u001b[0m plt\u001b[38;5;241m.\u001b[39mtitle(\u001b[38;5;124m'\u001b[39m\u001b[38;5;124m연령대별/업종별 인당 카드 이용 금액\u001b[39m\u001b[38;5;124m'\u001b[39m)\n\u001b[1;32m      3\u001b[0m plt\u001b[38;5;241m.\u001b[39mgca()\u001b[38;5;241m.\u001b[39myaxis\u001b[38;5;241m.\u001b[39mset_major_formatter(plt\u001b[38;5;241m.\u001b[39mFuncFormatter(\u001b[38;5;28;01mlambda\u001b[39;00m x, _: \u001b[38;5;124mf\u001b[39m\u001b[38;5;124m'\u001b[39m\u001b[38;5;132;01m{\u001b[39;00mx\u001b[38;5;241m/\u001b[39m\u001b[38;5;241m100000000\u001b[39m\u001b[38;5;132;01m:\u001b[39;00m\u001b[38;5;124m,.0f\u001b[39m\u001b[38;5;132;01m}\u001b[39;00m\u001b[38;5;124m'\u001b[39m))\n\u001b[1;32m      4\u001b[0m plt\u001b[38;5;241m.\u001b[39mylabel(\u001b[38;5;124m'\u001b[39m\u001b[38;5;124m이용금액(억)\u001b[39m\u001b[38;5;124m'\u001b[39m)\n",
      "\u001b[0;31mTypeError\u001b[0m: 'str' object is not callable"
     ]
    },
    {
     "data": {
      "image/png": "[encoded data removed]",
      "text/plain": [
       "<Figure size 1000x500 with 1 Axes>"
      ]
     },
     "metadata": {},
     "output_type": "display_data"
    }
   ],
   "source": [
    "sns.barplot(data=groupby_age_market, x='연령대', y='이용금액', hue='업종명')\n",
    "plt.title('연령대별/업종별 인당 카드 이용 금액')\n",
    "plt.gca().yaxis.set_major_formatter(plt.FuncFormatter(lambda x, _: f'{x/100000000:,.0f}'))\n",
    "plt.ylabel('이용금액(억)')"
   ]
  },
  {
   "cell_type": "markdown",
   "id": "537f22a5",
   "metadata": {},
   "source": [
    "### 인당 이용금액 비교"
   ]
  },
  {
   "cell_type": "code",
   "execution_count": 40,
   "id": "3e3af543",
   "metadata": {},
   "outputs": [
    {
     "ename": "TypeError",
     "evalue": "'str' object is not callable",
     "output_type": "error",
     "traceback": [
      "\u001b[0;31m---------------------------------------------------------------------------\u001b[0m",
      "\u001b[0;31mTypeError\u001b[0m                                 Traceback (most recent call last)",
      "Cell \u001b[0;32mIn[40], line 4\u001b[0m\n\u001b[1;32m      1\u001b[0m groupby_age_market[\u001b[38;5;124m'\u001b[39m\u001b[38;5;124m인당이용금액\u001b[39m\u001b[38;5;124m'\u001b[39m] \u001b[38;5;241m=\u001b[39m groupby_age_market[\u001b[38;5;124m'\u001b[39m\u001b[38;5;124m이용금액\u001b[39m\u001b[38;5;124m'\u001b[39m] \u001b[38;5;241m/\u001b[39m groupby_age_market[\u001b[38;5;124m'\u001b[39m\u001b[38;5;124m이용자수\u001b[39m\u001b[38;5;124m'\u001b[39m]\n\u001b[1;32m      3\u001b[0m sns\u001b[38;5;241m.\u001b[39mbarplot(data\u001b[38;5;241m=\u001b[39mgroupby_age_market, x\u001b[38;5;241m=\u001b[39m\u001b[38;5;124m'\u001b[39m\u001b[38;5;124m연령대\u001b[39m\u001b[38;5;124m'\u001b[39m, y\u001b[38;5;241m=\u001b[39m\u001b[38;5;124m'\u001b[39m\u001b[38;5;124m인당이용금액\u001b[39m\u001b[38;5;124m'\u001b[39m, hue\u001b[38;5;241m=\u001b[39m\u001b[38;5;124m'\u001b[39m\u001b[38;5;124m업종명\u001b[39m\u001b[38;5;124m'\u001b[39m)\n\u001b[0;32m----> 4\u001b[0m plt\u001b[38;5;241m.\u001b[39mtitle(\u001b[38;5;124m'\u001b[39m\u001b[38;5;124m연령대별/업종별 인당 카드 이용 금액\u001b[39m\u001b[38;5;124m'\u001b[39m)\n\u001b[1;32m      5\u001b[0m plt\u001b[38;5;241m.\u001b[39mgca()\u001b[38;5;241m.\u001b[39myaxis\u001b[38;5;241m.\u001b[39mset_major_formatter(plt\u001b[38;5;241m.\u001b[39mFuncFormatter(\u001b[38;5;28;01mlambda\u001b[39;00m x, _: \u001b[38;5;124mf\u001b[39m\u001b[38;5;124m'\u001b[39m\u001b[38;5;132;01m{\u001b[39;00mx\u001b[38;5;241m/\u001b[39m\u001b[38;5;241m100000000\u001b[39m\u001b[38;5;132;01m:\u001b[39;00m\u001b[38;5;124m,.0f\u001b[39m\u001b[38;5;132;01m}\u001b[39;00m\u001b[38;5;124m'\u001b[39m))\n\u001b[1;32m      6\u001b[0m plt\u001b[38;5;241m.\u001b[39mylabel(\u001b[38;5;124m'\u001b[39m\u001b[38;5;124m이용금액(억)\u001b[39m\u001b[38;5;124m'\u001b[39m)\n",
      "\u001b[0;31mTypeError\u001b[0m: 'str' object is not callable"
     ]
    },
    {
     "data": {
      "image/png": "[encoded data removed]",
      "text/plain": [
       "<Figure size 1000x500 with 1 Axes>"
      ]
     },
     "metadata": {},
     "output_type": "display_data"
    }
   ],
   "source": [
    "groupby_age_market['인당이용금액'] = groupby_age_market['이용금액'] / groupby_age_market['이용자수']\n",
    "\n",
    "sns.barplot(data=groupby_age_market, x='연령대', y='인당이용금액', hue='업종명')\n",
    "plt.title('연령대별/업종별 인당 카드 이용 금액')\n",
    "plt.gca().yaxis.set_major_formatter(plt.FuncFormatter(lambda x, _: f'{x/100000000:,.0f}'))\n",
    "plt.ylabel('이용금액(억)')"
   ]
  },
  {
   "cell_type": "code",
   "execution_count": 41,
   "id": "4d3dfdb5",
   "metadata": {},
   "outputs": [
    {
     "ename": "TypeError",
     "evalue": "'str' object is not callable",
     "output_type": "error",
     "traceback": [
      "\u001b[0;31m---------------------------------------------------------------------------\u001b[0m",
      "\u001b[0;31mTypeError\u001b[0m                                 Traceback (most recent call last)",
      "Cell \u001b[0;32mIn[41], line 6\u001b[0m\n\u001b[1;32m      4\u001b[0m data \u001b[38;5;241m=\u001b[39m groupby_age_market[groupby_age_market[\u001b[38;5;124m'\u001b[39m\u001b[38;5;124m연령대\u001b[39m\u001b[38;5;124m'\u001b[39m] \u001b[38;5;241m==\u001b[39m age]\n\u001b[1;32m      5\u001b[0m data\u001b[38;5;241m.\u001b[39mplot(y\u001b[38;5;241m=\u001b[39m\u001b[38;5;124m'\u001b[39m\u001b[38;5;124m인당이용금액\u001b[39m\u001b[38;5;124m'\u001b[39m, labels\u001b[38;5;241m=\u001b[39mdata[\u001b[38;5;124m'\u001b[39m\u001b[38;5;124m업종명\u001b[39m\u001b[38;5;124m'\u001b[39m], kind\u001b[38;5;241m=\u001b[39m\u001b[38;5;124m'\u001b[39m\u001b[38;5;124mpie\u001b[39m\u001b[38;5;124m'\u001b[39m, autopct\u001b[38;5;241m=\u001b[39m\u001b[38;5;124m'\u001b[39m\u001b[38;5;132;01m%.1f\u001b[39;00m\u001b[38;5;132;01m%%\u001b[39;00m\u001b[38;5;124m'\u001b[39m)\n\u001b[0;32m----> 6\u001b[0m plt\u001b[38;5;241m.\u001b[39mtitle(\u001b[38;5;124mf\u001b[39m\u001b[38;5;124m'\u001b[39m\u001b[38;5;124m업종별 이용 금액(\u001b[39m\u001b[38;5;132;01m{\u001b[39;00mage\u001b[38;5;132;01m}\u001b[39;00m\u001b[38;5;124m)\u001b[39m\u001b[38;5;124m'\u001b[39m)\n\u001b[1;32m      7\u001b[0m plt\u001b[38;5;241m.\u001b[39mxticks(rotation\u001b[38;5;241m=\u001b[39m\u001b[38;5;241m90\u001b[39m)\n\u001b[1;32m      8\u001b[0m plt\u001b[38;5;241m.\u001b[39mshow()\n",
      "\u001b[0;31mTypeError\u001b[0m: 'str' object is not callable"
     ]
    },
    {
     "data": {
      "image/png": "[encoded data removed]",
      "text/plain": [
       "<Figure size 1000x500 with 1 Axes>"
      ]
     },
     "metadata": {},
     "output_type": "display_data"
    }
   ],
   "source": [
    "import matplotlib.pyplot as plt\n",
    "\n",
    "for age in groupby_age_market['연령대'].unique():\n",
    "    data = groupby_age_market[groupby_age_market['연령대'] == age]\n",
    "    data.plot(y='인당이용금액', labels=data['업종명'], kind='pie', autopct='%.1f%%')\n",
    "    plt.title(f'업종별 이용 금액({age})')\n",
    "    plt.xticks(rotation=90)\n",
    "    plt.show()"
   ]
  },
  {
   "cell_type": "markdown",
   "id": "0e05e861",
   "metadata": {},
   "source": [
    "### 연령대별/연월별 이용 금액 시각화"
   ]
  },
  {
   "cell_type": "code",
   "execution_count": 43,
   "id": "2ee2d481",
   "metadata": {},
   "outputs": [
    {
     "data": {
      "text/plain": [
       "<Axes: xlabel='연령대', ylabel='이용자수'>"
      ]
     },
     "execution_count": 43,
     "metadata": {},
     "output_type": "execute_result"
    },
    {
     "data": {
      "image/png": "[encoded data removed]",
      "text/plain": [
       "<Figure size 1000x500 with 1 Axes>"
      ]
     },
     "metadata": {},
     "output_type": "display_data"
    }
   ],
   "source": [
    "groupby_age_ym = jeju_card_df.groupby(['연령대', '연월']).sum(numeric_only=True).reset_index()\n",
    "sns.barplot(data=groupby_age_ym, x='연령대', y='이용자수', hue='연월')"
   ]
  },
  {
   "cell_type": "code",
   "execution_count": 44,
   "id": "226a602d",
   "metadata": {},
   "outputs": [
    {
     "ename": "TypeError",
     "evalue": "'str' object is not callable",
     "output_type": "error",
     "traceback": [
      "\u001b[0;31m---------------------------------------------------------------------------\u001b[0m",
      "\u001b[0;31mTypeError\u001b[0m                                 Traceback (most recent call last)",
      "Cell \u001b[0;32mIn[44], line 4\u001b[0m\n\u001b[1;32m      2\u001b[0m data \u001b[38;5;241m=\u001b[39m groupby_age_ym[groupby_age_ym[\u001b[38;5;124m'\u001b[39m\u001b[38;5;124m연령대\u001b[39m\u001b[38;5;124m'\u001b[39m] \u001b[38;5;241m==\u001b[39m age]\n\u001b[1;32m      3\u001b[0m sns\u001b[38;5;241m.\u001b[39mbarplot(data\u001b[38;5;241m=\u001b[39mdata, x\u001b[38;5;241m=\u001b[39m\u001b[38;5;124m'\u001b[39m\u001b[38;5;124m연월\u001b[39m\u001b[38;5;124m'\u001b[39m, y\u001b[38;5;241m=\u001b[39m\u001b[38;5;124m'\u001b[39m\u001b[38;5;124m이용금액\u001b[39m\u001b[38;5;124m'\u001b[39m)\n\u001b[0;32m----> 4\u001b[0m plt\u001b[38;5;241m.\u001b[39mtitle(\u001b[38;5;124mf\u001b[39m\u001b[38;5;124m'\u001b[39m\u001b[38;5;132;01m{\u001b[39;00mage\u001b[38;5;132;01m}\u001b[39;00m\u001b[38;5;124m 연월별 카드 이용 금액\u001b[39m\u001b[38;5;124m'\u001b[39m)\n\u001b[1;32m      5\u001b[0m plt\u001b[38;5;241m.\u001b[39mxticks(rotation\u001b[38;5;241m=\u001b[39m\u001b[38;5;241m90\u001b[39m)\n\u001b[1;32m      6\u001b[0m plt\u001b[38;5;241m.\u001b[39mgca()\u001b[38;5;241m.\u001b[39myaxis\u001b[38;5;241m.\u001b[39mset_major_formatter(plt\u001b[38;5;241m.\u001b[39mFuncFormatter(\u001b[38;5;28;01mlambda\u001b[39;00m x, _: \u001b[38;5;124mf\u001b[39m\u001b[38;5;124m'\u001b[39m\u001b[38;5;132;01m{\u001b[39;00mx\u001b[38;5;241m/\u001b[39m\u001b[38;5;241m100000000\u001b[39m\u001b[38;5;132;01m:\u001b[39;00m\u001b[38;5;124m,.0f\u001b[39m\u001b[38;5;132;01m}\u001b[39;00m\u001b[38;5;124m'\u001b[39m))\n",
      "\u001b[0;31mTypeError\u001b[0m: 'str' object is not callable"
     ]
    },
    {
     "data": {
      "image/png": "[encoded data removed]",
      "text/plain": [
       "<Figure size 1000x500 with 1 Axes>"
      ]
     },
     "metadata": {},
     "output_type": "display_data"
    }
   ],
   "source": [
    "for age in groupby_age_ym['연령대'].unique():\n",
    "    data = groupby_age_ym[groupby_age_ym['연령대'] == age]\n",
    "    sns.barplot(data=data, x='연월', y='이용금액')\n",
    "    plt.title(f'{age} 연월별 카드 이용 금액')\n",
    "    plt.xticks(rotation=90)\n",
    "    plt.gca().yaxis.set_major_formatter(plt.FuncFormatter(lambda x, _: f'{x/100000000:,.0f}'))\n",
    "    plt.ylabel('이용금액(억)')\n",
    "    plt.show()"
   ]
  },
  {
   "cell_type": "code",
   "execution_count": null,
   "id": "008d06f4",
   "metadata": {},
   "outputs": [],
   "source": []
  }
 ],
 "metadata": {
  "kernelspec": {
   "display_name": "Python 3 (ipykernel)",
   "language": "python",
   "name": "python3"
  },
  "language_info": {
   "codemirror_mode": {
    "name": "ipython",
    "version": 3
   },
   "file_extension": ".py",
   "mimetype": "text/x-python",
   "name": "python",
   "nbconvert_exporter": "python",
   "pygments_lexer": "ipython3",
   "version": "3.11.5"
  }
 },
 "nbformat": 4,
 "nbformat_minor": 5
}
