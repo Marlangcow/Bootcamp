{
 "cells": [
  {
   "cell_type": "code",
   "execution_count": 83,
   "id": "e1d4b0d9",
   "metadata": {},
   "outputs": [],
   "source": [
    "import pandas as pd"
   ]
  },
  {
   "cell_type": "code",
   "execution_count": 84,
   "id": "83fe2020",
   "metadata": {},
   "outputs": [],
   "source": [
    "df = pd.read_csv('world_cities.csv')"
   ]
  },
  {
   "cell_type": "code",
   "execution_count": 85,
   "id": "94b3f1e6",
   "metadata": {},
   "outputs": [
    {
     "data": {
      "text/html": [
       "<div>\n",
       "<style scoped>\n",
       "    .dataframe tbody tr th:only-of-type {\n",
       "        vertical-align: middle;\n",
       "    }\n",
       "\n",
       "    .dataframe tbody tr th {\n",
       "        vertical-align: top;\n",
       "    }\n",
       "\n",
       "    .dataframe thead th {\n",
       "        text-align: right;\n",
       "    }\n",
       "</style>\n",
       "<table border=\"1\" class=\"dataframe\">\n",
       "  <thead>\n",
       "    <tr style=\"text-align: right;\">\n",
       "      <th></th>\n",
       "      <th>Unnamed: 0</th>\n",
       "      <th>City / Urban area</th>\n",
       "      <th>Country</th>\n",
       "      <th>Population</th>\n",
       "      <th>Land area (in sqKm)</th>\n",
       "    </tr>\n",
       "  </thead>\n",
       "  <tbody>\n",
       "    <tr>\n",
       "      <th>0</th>\n",
       "      <td>0</td>\n",
       "      <td>Buenos Aires</td>\n",
       "      <td>Argentina</td>\n",
       "      <td>11200000</td>\n",
       "      <td>2266</td>\n",
       "    </tr>\n",
       "    <tr>\n",
       "      <th>1</th>\n",
       "      <td>1</td>\n",
       "      <td>Melbourne</td>\n",
       "      <td>Australia</td>\n",
       "      <td>3162000</td>\n",
       "      <td>2080</td>\n",
       "    </tr>\n",
       "    <tr>\n",
       "      <th>2</th>\n",
       "      <td>2</td>\n",
       "      <td>Sydney</td>\n",
       "      <td>Australia</td>\n",
       "      <td>3502000</td>\n",
       "      <td>1687</td>\n",
       "    </tr>\n",
       "    <tr>\n",
       "      <th>3</th>\n",
       "      <td>3</td>\n",
       "      <td>Brisbane</td>\n",
       "      <td>Australia</td>\n",
       "      <td>1508000</td>\n",
       "      <td>1603</td>\n",
       "    </tr>\n",
       "    <tr>\n",
       "      <th>4</th>\n",
       "      <td>4</td>\n",
       "      <td>Perth</td>\n",
       "      <td>Australia</td>\n",
       "      <td>1177000</td>\n",
       "      <td>964</td>\n",
       "    </tr>\n",
       "    <tr>\n",
       "      <th>...</th>\n",
       "      <td>...</td>\n",
       "      <td>...</td>\n",
       "      <td>...</td>\n",
       "      <td>...</td>\n",
       "      <td>...</td>\n",
       "    </tr>\n",
       "    <tr>\n",
       "      <th>244</th>\n",
       "      <td>245</td>\n",
       "      <td>Canton</td>\n",
       "      <td>USA</td>\n",
       "      <td>267000</td>\n",
       "      <td>372</td>\n",
       "    </tr>\n",
       "    <tr>\n",
       "      <th>245</th>\n",
       "      <td>246</td>\n",
       "      <td>Spokane</td>\n",
       "      <td>USA</td>\n",
       "      <td>335000</td>\n",
       "      <td>371</td>\n",
       "    </tr>\n",
       "    <tr>\n",
       "      <th>246</th>\n",
       "      <td>247</td>\n",
       "      <td>Tashkent</td>\n",
       "      <td>Uzbekistan</td>\n",
       "      <td>2200000</td>\n",
       "      <td>531</td>\n",
       "    </tr>\n",
       "    <tr>\n",
       "      <th>247</th>\n",
       "      <td>248</td>\n",
       "      <td>Ho Chi Minh City</td>\n",
       "      <td>Vietnam</td>\n",
       "      <td>4900000</td>\n",
       "      <td>518</td>\n",
       "    </tr>\n",
       "    <tr>\n",
       "      <th>248</th>\n",
       "      <td>249</td>\n",
       "      <td>Harare</td>\n",
       "      <td>Zimbabwe</td>\n",
       "      <td>1750000</td>\n",
       "      <td>712</td>\n",
       "    </tr>\n",
       "  </tbody>\n",
       "</table>\n",
       "<p>249 rows × 5 columns</p>\n",
       "</div>"
      ],
      "text/plain": [
       "     Unnamed: 0 City / Urban area     Country  Population  Land area (in sqKm)\n",
       "0             0      Buenos Aires   Argentina    11200000                 2266\n",
       "1             1         Melbourne   Australia     3162000                 2080\n",
       "2             2            Sydney   Australia     3502000                 1687\n",
       "3             3          Brisbane   Australia     1508000                 1603\n",
       "4             4             Perth   Australia     1177000                  964\n",
       "..          ...               ...         ...         ...                  ...\n",
       "244         245            Canton         USA      267000                  372\n",
       "245         246           Spokane         USA      335000                  371\n",
       "246         247          Tashkent  Uzbekistan     2200000                  531\n",
       "247         248  Ho Chi Minh City     Vietnam     4900000                  518\n",
       "248         249            Harare    Zimbabwe     1750000                  712\n",
       "\n",
       "[249 rows x 5 columns]"
      ]
     },
     "execution_count": 85,
     "metadata": {},
     "output_type": "execute_result"
    }
   ],
   "source": [
    "df"
   ]
  },
  {
   "cell_type": "markdown",
   "id": "3ba9dd84",
   "metadata": {},
   "source": [
    "질문 1\n",
    "---\n",
    "여행을 좋아하는 익중이는 여행지를 알아보고 있습니다. 주어진 데이터에는 총 몇 개의 도시와 몇 개의 나라가 있는지 알아맞혀 보세요.답안은 도시/나라 형식으로 숫자만 입력해 주세요. (예시: 156/77)"
   ]
  },
  {
   "cell_type": "code",
   "execution_count": 7,
   "id": "c39932f5",
   "metadata": {},
   "outputs": [
    {
     "data": {
      "text/plain": [
       "count     249\n",
       "unique     61\n",
       "top       USA\n",
       "freq      105\n",
       "Name: Country, dtype: object"
      ]
     },
     "execution_count": 7,
     "metadata": {},
     "output_type": "execute_result"
    }
   ],
   "source": [
    "df['Country'].describe()"
   ]
  },
  {
   "cell_type": "code",
   "execution_count": 8,
   "id": "6540128c",
   "metadata": {},
   "outputs": [
    {
     "data": {
      "text/plain": [
       "count              249\n",
       "unique             249\n",
       "top       Buenos Aires\n",
       "freq                 1\n",
       "Name: City / Urban area, dtype: object"
      ]
     },
     "execution_count": 8,
     "metadata": {},
     "output_type": "execute_result"
    }
   ],
   "source": [
    "df['City / Urban area'].describe()"
   ]
  },
  {
   "cell_type": "markdown",
   "id": "04e8a25a",
   "metadata": {},
   "source": [
    "질문2\n",
    "---\n",
    "사람 만나기를 좋아하는 익중이는 가장 사람이 붐비는 도시로 여행을 가기로 마음 먹었습니다. 주어진 데이터에서, 인구 밀도(명/sqKm) 가 10000 이 넘는 도시는 총 몇 개인지 알아보세요. 참고로 인구 밀도는 인구 수 / 땅의 면적 (in sqKm) 로 구할 수 있습니다. 답안은 숫자로만 입력해 주세요. (예시: 24)"
   ]
  },
  {
   "cell_type": "code",
   "execution_count": 9,
   "id": "c451f41f",
   "metadata": {},
   "outputs": [],
   "source": [
    "df['density'] = df['Population'] / df['Land area (in sqKm)']"
   ]
  },
  {
   "cell_type": "code",
   "execution_count": 13,
   "id": "65953c18",
   "metadata": {},
   "outputs": [
    {
     "name": "stdout",
     "output_type": "stream",
     "text": [
      "<class 'pandas.core.frame.DataFrame'>\n",
      "Index: 19 entries, 32 to 129\n",
      "Data columns (total 6 columns):\n",
      " #   Column               Non-Null Count  Dtype  \n",
      "---  ------               --------------  -----  \n",
      " 0   Unnamed: 0           19 non-null     int64  \n",
      " 1   City / Urban area    19 non-null     object \n",
      " 2   Country              19 non-null     object \n",
      " 3   Population           19 non-null     int64  \n",
      " 4   Land area (in sqKm)  19 non-null     int64  \n",
      " 5   density              19 non-null     float64\n",
      "dtypes: float64(1), int64(3), object(2)\n",
      "memory usage: 1.0+ KB\n"
     ]
    }
   ],
   "source": [
    "df[df['density'] > 10000].info(0)"
   ]
  },
  {
   "cell_type": "markdown",
   "id": "283d083d",
   "metadata": {},
   "source": [
    "질문3\n",
    "---\n",
    "이번에는 인구 밀도가 가장 높은 도시를 찾아봅시다.\n",
    "\n",
    "답안은 데이터에 적힌 이름을 그대로 입력해 주세요. (예시: Seoul)"
   ]
  },
  {
   "cell_type": "code",
   "execution_count": 19,
   "id": "147681cd",
   "metadata": {},
   "outputs": [
    {
     "data": {
      "text/plain": [
       "29648.760330578512"
      ]
     },
     "execution_count": 19,
     "metadata": {},
     "output_type": "execute_result"
    }
   ],
   "source": [
    "df['density'].max()"
   ]
  },
  {
   "cell_type": "code",
   "execution_count": 27,
   "id": "3e44e886",
   "metadata": {},
   "outputs": [
    {
     "data": {
      "text/html": [
       "<div>\n",
       "<style scoped>\n",
       "    .dataframe tbody tr th:only-of-type {\n",
       "        vertical-align: middle;\n",
       "    }\n",
       "\n",
       "    .dataframe tbody tr th {\n",
       "        vertical-align: top;\n",
       "    }\n",
       "\n",
       "    .dataframe thead th {\n",
       "        text-align: right;\n",
       "    }\n",
       "</style>\n",
       "<table border=\"1\" class=\"dataframe\">\n",
       "  <thead>\n",
       "    <tr style=\"text-align: right;\">\n",
       "      <th></th>\n",
       "      <th>City / Urban area</th>\n",
       "      <th>Country</th>\n",
       "      <th>density</th>\n",
       "    </tr>\n",
       "  </thead>\n",
       "  <tbody>\n",
       "    <tr>\n",
       "      <th>75</th>\n",
       "      <td>Mumbai</td>\n",
       "      <td>India</td>\n",
       "      <td>29648.760331</td>\n",
       "    </tr>\n",
       "  </tbody>\n",
       "</table>\n",
       "</div>"
      ],
      "text/plain": [
       "   City / Urban area Country       density\n",
       "75            Mumbai   India  29648.760331"
      ]
     },
     "execution_count": 27,
     "metadata": {},
     "output_type": "execute_result"
    }
   ],
   "source": [
    "df.loc[(df.density == 29648.760330578512), ['City / Urban area', 'Country', 'density']]"
   ]
  },
  {
   "cell_type": "code",
   "execution_count": 26,
   "id": "fcc17bca",
   "metadata": {},
   "outputs": [
    {
     "data": {
      "text/html": [
       "<div>\n",
       "<style scoped>\n",
       "    .dataframe tbody tr th:only-of-type {\n",
       "        vertical-align: middle;\n",
       "    }\n",
       "\n",
       "    .dataframe tbody tr th {\n",
       "        vertical-align: top;\n",
       "    }\n",
       "\n",
       "    .dataframe thead th {\n",
       "        text-align: right;\n",
       "    }\n",
       "</style>\n",
       "<table border=\"1\" class=\"dataframe\">\n",
       "  <thead>\n",
       "    <tr style=\"text-align: right;\">\n",
       "      <th></th>\n",
       "      <th>Unnamed: 0</th>\n",
       "      <th>City / Urban area</th>\n",
       "      <th>Country</th>\n",
       "      <th>Population</th>\n",
       "      <th>Land area (in sqKm)</th>\n",
       "      <th>Density</th>\n",
       "    </tr>\n",
       "  </thead>\n",
       "  <tbody>\n",
       "    <tr>\n",
       "      <th>0</th>\n",
       "      <td>0</td>\n",
       "      <td>Buenos Aires</td>\n",
       "      <td>Argentina</td>\n",
       "      <td>11200000</td>\n",
       "      <td>2266</td>\n",
       "      <td>4942.630185</td>\n",
       "    </tr>\n",
       "    <tr>\n",
       "      <th>1</th>\n",
       "      <td>1</td>\n",
       "      <td>Melbourne</td>\n",
       "      <td>Australia</td>\n",
       "      <td>3162000</td>\n",
       "      <td>2080</td>\n",
       "      <td>1520.192308</td>\n",
       "    </tr>\n",
       "    <tr>\n",
       "      <th>2</th>\n",
       "      <td>2</td>\n",
       "      <td>Sydney</td>\n",
       "      <td>Australia</td>\n",
       "      <td>3502000</td>\n",
       "      <td>1687</td>\n",
       "      <td>2075.874333</td>\n",
       "    </tr>\n",
       "    <tr>\n",
       "      <th>3</th>\n",
       "      <td>3</td>\n",
       "      <td>Brisbane</td>\n",
       "      <td>Australia</td>\n",
       "      <td>1508000</td>\n",
       "      <td>1603</td>\n",
       "      <td>940.736120</td>\n",
       "    </tr>\n",
       "    <tr>\n",
       "      <th>4</th>\n",
       "      <td>4</td>\n",
       "      <td>Perth</td>\n",
       "      <td>Australia</td>\n",
       "      <td>1177000</td>\n",
       "      <td>964</td>\n",
       "      <td>1220.954357</td>\n",
       "    </tr>\n",
       "    <tr>\n",
       "      <th>...</th>\n",
       "      <td>...</td>\n",
       "      <td>...</td>\n",
       "      <td>...</td>\n",
       "      <td>...</td>\n",
       "      <td>...</td>\n",
       "      <td>...</td>\n",
       "    </tr>\n",
       "    <tr>\n",
       "      <th>244</th>\n",
       "      <td>245</td>\n",
       "      <td>Canton</td>\n",
       "      <td>USA</td>\n",
       "      <td>267000</td>\n",
       "      <td>372</td>\n",
       "      <td>717.741935</td>\n",
       "    </tr>\n",
       "    <tr>\n",
       "      <th>245</th>\n",
       "      <td>246</td>\n",
       "      <td>Spokane</td>\n",
       "      <td>USA</td>\n",
       "      <td>335000</td>\n",
       "      <td>371</td>\n",
       "      <td>902.964960</td>\n",
       "    </tr>\n",
       "    <tr>\n",
       "      <th>246</th>\n",
       "      <td>247</td>\n",
       "      <td>Tashkent</td>\n",
       "      <td>Uzbekistan</td>\n",
       "      <td>2200000</td>\n",
       "      <td>531</td>\n",
       "      <td>4143.126177</td>\n",
       "    </tr>\n",
       "    <tr>\n",
       "      <th>247</th>\n",
       "      <td>248</td>\n",
       "      <td>Ho Chi Minh City</td>\n",
       "      <td>Vietnam</td>\n",
       "      <td>4900000</td>\n",
       "      <td>518</td>\n",
       "      <td>9459.459459</td>\n",
       "    </tr>\n",
       "    <tr>\n",
       "      <th>248</th>\n",
       "      <td>249</td>\n",
       "      <td>Harare</td>\n",
       "      <td>Zimbabwe</td>\n",
       "      <td>1750000</td>\n",
       "      <td>712</td>\n",
       "      <td>2457.865169</td>\n",
       "    </tr>\n",
       "  </tbody>\n",
       "</table>\n",
       "<p>249 rows × 6 columns</p>\n",
       "</div>"
      ],
      "text/plain": [
       "     Unnamed: 0 City / Urban area     Country  Population  \\\n",
       "0             0      Buenos Aires   Argentina    11200000   \n",
       "1             1         Melbourne   Australia     3162000   \n",
       "2             2            Sydney   Australia     3502000   \n",
       "3             3          Brisbane   Australia     1508000   \n",
       "4             4             Perth   Australia     1177000   \n",
       "..          ...               ...         ...         ...   \n",
       "244         245            Canton         USA      267000   \n",
       "245         246           Spokane         USA      335000   \n",
       "246         247          Tashkent  Uzbekistan     2200000   \n",
       "247         248  Ho Chi Minh City     Vietnam     4900000   \n",
       "248         249            Harare    Zimbabwe     1750000   \n",
       "\n",
       "     Land area (in sqKm)      Density  \n",
       "0                   2266  4942.630185  \n",
       "1                   2080  1520.192308  \n",
       "2                   1687  2075.874333  \n",
       "3                   1603   940.736120  \n",
       "4                    964  1220.954357  \n",
       "..                   ...          ...  \n",
       "244                  372   717.741935  \n",
       "245                  371   902.964960  \n",
       "246                  531  4143.126177  \n",
       "247                  518  9459.459459  \n",
       "248                  712  2457.865169  \n",
       "\n",
       "[249 rows x 6 columns]"
      ]
     },
     "execution_count": 26,
     "metadata": {},
     "output_type": "execute_result"
    }
   ],
   "source": [
    "df.rename(columns={'density':'Density'})"
   ]
  },
  {
   "cell_type": "markdown",
   "id": "937fb046",
   "metadata": {},
   "source": [
    "## 질문4\n",
    "익중이는 누나에게 여행지를 추천 받으려고 합니다.\n",
    "그런데 나라 이름이 기억나지 않고, 이 데이터에서 그 나라에 속한 도시가 딱 4개 들어 있었다는 것만 기억이 난다고 하네요. 이 나라는 무엇일까요?\n",
    "\n",
    "답안은 데이터에 적힌 이름 그대로 적어 주세요. (예시: France)"
   ]
  },
  {
   "cell_type": "code",
   "execution_count": 86,
   "id": "11537409",
   "metadata": {},
   "outputs": [
    {
     "data": {
      "text/html": [
       "<div>\n",
       "<style scoped>\n",
       "    .dataframe tbody tr th:only-of-type {\n",
       "        vertical-align: middle;\n",
       "    }\n",
       "\n",
       "    .dataframe tbody tr th {\n",
       "        vertical-align: top;\n",
       "    }\n",
       "\n",
       "    .dataframe thead th {\n",
       "        text-align: right;\n",
       "    }\n",
       "</style>\n",
       "<table border=\"1\" class=\"dataframe\">\n",
       "  <thead>\n",
       "    <tr style=\"text-align: right;\">\n",
       "      <th></th>\n",
       "      <th>Unnamed: 0</th>\n",
       "      <th>City / Urban area</th>\n",
       "      <th>Country</th>\n",
       "      <th>Population</th>\n",
       "      <th>Land area (in sqKm)</th>\n",
       "    </tr>\n",
       "  </thead>\n",
       "  <tbody>\n",
       "    <tr>\n",
       "      <th>0</th>\n",
       "      <td>0</td>\n",
       "      <td>Buenos Aires</td>\n",
       "      <td>Argentina</td>\n",
       "      <td>11200000</td>\n",
       "      <td>2266</td>\n",
       "    </tr>\n",
       "    <tr>\n",
       "      <th>1</th>\n",
       "      <td>1</td>\n",
       "      <td>Melbourne</td>\n",
       "      <td>Australia</td>\n",
       "      <td>3162000</td>\n",
       "      <td>2080</td>\n",
       "    </tr>\n",
       "    <tr>\n",
       "      <th>2</th>\n",
       "      <td>2</td>\n",
       "      <td>Sydney</td>\n",
       "      <td>Australia</td>\n",
       "      <td>3502000</td>\n",
       "      <td>1687</td>\n",
       "    </tr>\n",
       "    <tr>\n",
       "      <th>3</th>\n",
       "      <td>3</td>\n",
       "      <td>Brisbane</td>\n",
       "      <td>Australia</td>\n",
       "      <td>1508000</td>\n",
       "      <td>1603</td>\n",
       "    </tr>\n",
       "    <tr>\n",
       "      <th>4</th>\n",
       "      <td>4</td>\n",
       "      <td>Perth</td>\n",
       "      <td>Australia</td>\n",
       "      <td>1177000</td>\n",
       "      <td>964</td>\n",
       "    </tr>\n",
       "    <tr>\n",
       "      <th>...</th>\n",
       "      <td>...</td>\n",
       "      <td>...</td>\n",
       "      <td>...</td>\n",
       "      <td>...</td>\n",
       "      <td>...</td>\n",
       "    </tr>\n",
       "    <tr>\n",
       "      <th>244</th>\n",
       "      <td>245</td>\n",
       "      <td>Canton</td>\n",
       "      <td>USA</td>\n",
       "      <td>267000</td>\n",
       "      <td>372</td>\n",
       "    </tr>\n",
       "    <tr>\n",
       "      <th>245</th>\n",
       "      <td>246</td>\n",
       "      <td>Spokane</td>\n",
       "      <td>USA</td>\n",
       "      <td>335000</td>\n",
       "      <td>371</td>\n",
       "    </tr>\n",
       "    <tr>\n",
       "      <th>246</th>\n",
       "      <td>247</td>\n",
       "      <td>Tashkent</td>\n",
       "      <td>Uzbekistan</td>\n",
       "      <td>2200000</td>\n",
       "      <td>531</td>\n",
       "    </tr>\n",
       "    <tr>\n",
       "      <th>247</th>\n",
       "      <td>248</td>\n",
       "      <td>Ho Chi Minh City</td>\n",
       "      <td>Vietnam</td>\n",
       "      <td>4900000</td>\n",
       "      <td>518</td>\n",
       "    </tr>\n",
       "    <tr>\n",
       "      <th>248</th>\n",
       "      <td>249</td>\n",
       "      <td>Harare</td>\n",
       "      <td>Zimbabwe</td>\n",
       "      <td>1750000</td>\n",
       "      <td>712</td>\n",
       "    </tr>\n",
       "  </tbody>\n",
       "</table>\n",
       "<p>249 rows × 5 columns</p>\n",
       "</div>"
      ],
      "text/plain": [
       "     Unnamed: 0 City / Urban area     Country  Population  Land area (in sqKm)\n",
       "0             0      Buenos Aires   Argentina    11200000                 2266\n",
       "1             1         Melbourne   Australia     3162000                 2080\n",
       "2             2            Sydney   Australia     3502000                 1687\n",
       "3             3          Brisbane   Australia     1508000                 1603\n",
       "4             4             Perth   Australia     1177000                  964\n",
       "..          ...               ...         ...         ...                  ...\n",
       "244         245            Canton         USA      267000                  372\n",
       "245         246           Spokane         USA      335000                  371\n",
       "246         247          Tashkent  Uzbekistan     2200000                  531\n",
       "247         248  Ho Chi Minh City     Vietnam     4900000                  518\n",
       "248         249            Harare    Zimbabwe     1750000                  712\n",
       "\n",
       "[249 rows x 5 columns]"
      ]
     },
     "execution_count": 86,
     "metadata": {},
     "output_type": "execute_result"
    }
   ],
   "source": [
    "df"
   ]
  },
  {
   "cell_type": "code",
   "execution_count": 87,
   "id": "075ee140",
   "metadata": {},
   "outputs": [],
   "source": [
    "country_recommend = df['Country'].value_counts()"
   ]
  },
  {
   "cell_type": "code",
   "execution_count": 90,
   "id": "7b93db42",
   "metadata": {},
   "outputs": [
    {
     "data": {
      "text/plain": [
       "Country\n",
       "Italy    4\n",
       "Name: count, dtype: int64"
      ]
     },
     "execution_count": 90,
     "metadata": {},
     "output_type": "execute_result"
    }
   ],
   "source": [
    "country_recommend[country_recommend == 4]"
   ]
  },
  {
   "cell_type": "code",
   "execution_count": null,
   "id": "69ca55cb",
   "metadata": {},
   "outputs": [],
   "source": []
  }
 ],
 "metadata": {
  "kernelspec": {
   "display_name": "Python 3 (ipykernel)",
   "language": "python",
   "name": "python3"
  },
  "language_info": {
   "codemirror_mode": {
    "name": "ipython",
    "version": 3
   },
   "file_extension": ".py",
   "mimetype": "text/x-python",
   "name": "python",
   "nbconvert_exporter": "python",
   "pygments_lexer": "ipython3",
   "version": "3.11.5"
  }
 },
 "nbformat": 4,
 "nbformat_minor": 5
}
